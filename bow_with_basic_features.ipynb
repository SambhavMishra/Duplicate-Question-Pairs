{
 "cells": [
  {
   "cell_type": "code",
   "execution_count": 40,
   "metadata": {},
   "outputs": [],
   "source": [
    "import warnings \n",
    "warnings.filterwarnings('ignore')"
   ]
  },
  {
   "cell_type": "code",
   "execution_count": 1,
   "metadata": {},
   "outputs": [],
   "source": [
    "import numpy as np\n",
    "import pandas as pd\n",
    "import seaborn as sns \n",
    "import matplotlib.pyplot as plt  "
   ]
  },
  {
   "cell_type": "code",
   "execution_count": 2,
   "metadata": {},
   "outputs": [
    {
     "data": {
      "text/plain": [
       "(404290, 6)"
      ]
     },
     "execution_count": 2,
     "metadata": {},
     "output_type": "execute_result"
    }
   ],
   "source": [
    "path = r'train.csv/train.csv'\n",
    "df = pd.read_csv(path)\n",
    "df.shape"
   ]
  },
  {
   "cell_type": "code",
   "execution_count": 3,
   "metadata": {},
   "outputs": [
    {
     "data": {
      "text/html": [
       "<div>\n",
       "<style scoped>\n",
       "    .dataframe tbody tr th:only-of-type {\n",
       "        vertical-align: middle;\n",
       "    }\n",
       "\n",
       "    .dataframe tbody tr th {\n",
       "        vertical-align: top;\n",
       "    }\n",
       "\n",
       "    .dataframe thead th {\n",
       "        text-align: right;\n",
       "    }\n",
       "</style>\n",
       "<table border=\"1\" class=\"dataframe\">\n",
       "  <thead>\n",
       "    <tr style=\"text-align: right;\">\n",
       "      <th></th>\n",
       "      <th>id</th>\n",
       "      <th>qid1</th>\n",
       "      <th>qid2</th>\n",
       "      <th>question1</th>\n",
       "      <th>question2</th>\n",
       "      <th>is_duplicate</th>\n",
       "    </tr>\n",
       "  </thead>\n",
       "  <tbody>\n",
       "    <tr>\n",
       "      <th>144603</th>\n",
       "      <td>144603</td>\n",
       "      <td>228811</td>\n",
       "      <td>228812</td>\n",
       "      <td>What advice would you give your 23 year old se...</td>\n",
       "      <td>What advice would you give to your 25 year old...</td>\n",
       "      <td>0</td>\n",
       "    </tr>\n",
       "    <tr>\n",
       "      <th>28564</th>\n",
       "      <td>28564</td>\n",
       "      <td>52950</td>\n",
       "      <td>52951</td>\n",
       "      <td>What is a suitable inpatient drug and alcohol ...</td>\n",
       "      <td>Which is a suitable inpatient drug and alcohol...</td>\n",
       "      <td>0</td>\n",
       "    </tr>\n",
       "    <tr>\n",
       "      <th>131391</th>\n",
       "      <td>131391</td>\n",
       "      <td>210672</td>\n",
       "      <td>96347</td>\n",
       "      <td>I have reliance jio 4g SIM. I downloaded MyJio...</td>\n",
       "      <td>Can I use a Reliance Jio 4G sim in a 3G Micros...</td>\n",
       "      <td>0</td>\n",
       "    </tr>\n",
       "    <tr>\n",
       "      <th>37580</th>\n",
       "      <td>37580</td>\n",
       "      <td>68365</td>\n",
       "      <td>68366</td>\n",
       "      <td>How can I download my e-Aadhaar Card?</td>\n",
       "      <td>How do I change the address on my new Aadhaar ...</td>\n",
       "      <td>0</td>\n",
       "    </tr>\n",
       "    <tr>\n",
       "      <th>31653</th>\n",
       "      <td>31653</td>\n",
       "      <td>58344</td>\n",
       "      <td>58345</td>\n",
       "      <td>What are some of the most common examples of a...</td>\n",
       "      <td>What are some of the most common examples of i...</td>\n",
       "      <td>1</td>\n",
       "    </tr>\n",
       "    <tr>\n",
       "      <th>30075</th>\n",
       "      <td>30075</td>\n",
       "      <td>55590</td>\n",
       "      <td>55591</td>\n",
       "      <td>Can I travel internationally if I have a class...</td>\n",
       "      <td>Theoretically is a minor able to avoid a charg...</td>\n",
       "      <td>0</td>\n",
       "    </tr>\n",
       "    <tr>\n",
       "      <th>326091</th>\n",
       "      <td>326091</td>\n",
       "      <td>452364</td>\n",
       "      <td>452365</td>\n",
       "      <td>Will I be considered too old for dating men wh...</td>\n",
       "      <td>Do beautiful men date average women?</td>\n",
       "      <td>0</td>\n",
       "    </tr>\n",
       "    <tr>\n",
       "      <th>282144</th>\n",
       "      <td>282144</td>\n",
       "      <td>402038</td>\n",
       "      <td>402039</td>\n",
       "      <td>Has Trump's call to shoot his opponent actuall...</td>\n",
       "      <td>Is it funny to watch Trump's opponents inadver...</td>\n",
       "      <td>0</td>\n",
       "    </tr>\n",
       "    <tr>\n",
       "      <th>283261</th>\n",
       "      <td>283261</td>\n",
       "      <td>403338</td>\n",
       "      <td>403339</td>\n",
       "      <td>Is Cory Booker making a mistake by testifying ...</td>\n",
       "      <td>How fair are the racism claims against Jeff Se...</td>\n",
       "      <td>0</td>\n",
       "    </tr>\n",
       "    <tr>\n",
       "      <th>216425</th>\n",
       "      <td>216425</td>\n",
       "      <td>322573</td>\n",
       "      <td>322574</td>\n",
       "      <td>How should one prepare for the IIFT?</td>\n",
       "      <td>How do I prepare for IIFT in only 1 month?</td>\n",
       "      <td>0</td>\n",
       "    </tr>\n",
       "  </tbody>\n",
       "</table>\n",
       "</div>"
      ],
      "text/plain": [
       "            id    qid1    qid2  \\\n",
       "144603  144603  228811  228812   \n",
       "28564    28564   52950   52951   \n",
       "131391  131391  210672   96347   \n",
       "37580    37580   68365   68366   \n",
       "31653    31653   58344   58345   \n",
       "30075    30075   55590   55591   \n",
       "326091  326091  452364  452365   \n",
       "282144  282144  402038  402039   \n",
       "283261  283261  403338  403339   \n",
       "216425  216425  322573  322574   \n",
       "\n",
       "                                                question1  \\\n",
       "144603  What advice would you give your 23 year old se...   \n",
       "28564   What is a suitable inpatient drug and alcohol ...   \n",
       "131391  I have reliance jio 4g SIM. I downloaded MyJio...   \n",
       "37580               How can I download my e-Aadhaar Card?   \n",
       "31653   What are some of the most common examples of a...   \n",
       "30075   Can I travel internationally if I have a class...   \n",
       "326091  Will I be considered too old for dating men wh...   \n",
       "282144  Has Trump's call to shoot his opponent actuall...   \n",
       "283261  Is Cory Booker making a mistake by testifying ...   \n",
       "216425               How should one prepare for the IIFT?   \n",
       "\n",
       "                                                question2  is_duplicate  \n",
       "144603  What advice would you give to your 25 year old...             0  \n",
       "28564   Which is a suitable inpatient drug and alcohol...             0  \n",
       "131391  Can I use a Reliance Jio 4G sim in a 3G Micros...             0  \n",
       "37580   How do I change the address on my new Aadhaar ...             0  \n",
       "31653   What are some of the most common examples of i...             1  \n",
       "30075   Theoretically is a minor able to avoid a charg...             0  \n",
       "326091               Do beautiful men date average women?             0  \n",
       "282144  Is it funny to watch Trump's opponents inadver...             0  \n",
       "283261  How fair are the racism claims against Jeff Se...             0  \n",
       "216425         How do I prepare for IIFT in only 1 month?             0  "
      ]
     },
     "execution_count": 3,
     "metadata": {},
     "output_type": "execute_result"
    }
   ],
   "source": [
    "df.sample(10)"
   ]
  },
  {
   "cell_type": "code",
   "execution_count": 4,
   "metadata": {},
   "outputs": [
    {
     "name": "stdout",
     "output_type": "stream",
     "text": [
      "<class 'pandas.core.frame.DataFrame'>\n",
      "RangeIndex: 404290 entries, 0 to 404289\n",
      "Data columns (total 6 columns):\n",
      " #   Column        Non-Null Count   Dtype \n",
      "---  ------        --------------   ----- \n",
      " 0   id            404290 non-null  int64 \n",
      " 1   qid1          404290 non-null  int64 \n",
      " 2   qid2          404290 non-null  int64 \n",
      " 3   question1     404289 non-null  object\n",
      " 4   question2     404288 non-null  object\n",
      " 5   is_duplicate  404290 non-null  int64 \n",
      "dtypes: int64(4), object(2)\n",
      "memory usage: 18.5+ MB\n"
     ]
    }
   ],
   "source": [
    "df.info()"
   ]
  },
  {
   "cell_type": "code",
   "execution_count": 5,
   "metadata": {},
   "outputs": [
    {
     "data": {
      "text/plain": [
       "id              0\n",
       "qid1            0\n",
       "qid2            0\n",
       "question1       1\n",
       "question2       2\n",
       "is_duplicate    0\n",
       "dtype: int64"
      ]
     },
     "execution_count": 5,
     "metadata": {},
     "output_type": "execute_result"
    }
   ],
   "source": [
    "df.isnull().sum()"
   ]
  },
  {
   "cell_type": "code",
   "execution_count": 6,
   "metadata": {},
   "outputs": [
    {
     "data": {
      "text/plain": [
       "0"
      ]
     },
     "execution_count": 6,
     "metadata": {},
     "output_type": "execute_result"
    }
   ],
   "source": [
    "# duplicate rows\n",
    "df.duplicated().sum()"
   ]
  },
  {
   "cell_type": "code",
   "execution_count": 7,
   "metadata": {},
   "outputs": [
    {
     "data": {
      "text/plain": [
       "0    255027\n",
       "1    149263\n",
       "Name: is_duplicate, dtype: int64"
      ]
     },
     "execution_count": 7,
     "metadata": {},
     "output_type": "execute_result"
    }
   ],
   "source": [
    "# Distribution of duplicate and non-duplicate questions\n",
    "df['is_duplicate'].value_counts()"
   ]
  },
  {
   "cell_type": "code",
   "execution_count": 8,
   "metadata": {},
   "outputs": [
    {
     "data": {
      "text/plain": [
       "<AxesSubplot:>"
      ]
     },
     "execution_count": 8,
     "metadata": {},
     "output_type": "execute_result"
    },
    {
     "data": {
      "image/png": "[encoded data removed]",
      "text/plain": [
       "<Figure size 432x288 with 1 Axes>"
      ]
     },
     "metadata": {
      "needs_background": "light"
     },
     "output_type": "display_data"
    }
   ],
   "source": [
    "df['is_duplicate'].value_counts()/df['is_duplicate'].count()*100\n",
    "df['is_duplicate'].value_counts().plot(kind='bar')"
   ]
  },
  {
   "cell_type": "code",
   "execution_count": 9,
   "metadata": {},
   "outputs": [
    {
     "name": "stdout",
     "output_type": "stream",
     "text": [
      "Number of unique questions:  537933\n",
      "Number of questions getting repeated :  111780\n"
     ]
    }
   ],
   "source": [
    "# Repeated questions\n",
    "qid = pd.Series(df['qid1'].tolist() + df['qid2'].tolist())\n",
    "print('Number of unique questions: ', np.unique(qid).shape[0])\n",
    "x = qid.value_counts() > 1 \n",
    "print(\"Number of questions getting repeated : \", x[x].shape[0])"
   ]
  },
  {
   "cell_type": "code",
   "execution_count": 10,
   "metadata": {},
   "outputs": [
    {
     "data": {
      "image/png": "[encoded data removed]",
      "text/plain": [
       "<Figure size 432x288 with 1 Axes>"
      ]
     },
     "metadata": {
      "needs_background": "light"
     },
     "output_type": "display_data"
    }
   ],
   "source": [
    "# Repeated questions histogram \n",
    "plt.hist(qid.value_counts().values, bins=160)\n",
    "plt.yscale('log')\n",
    "plt.show()"
   ]
  },
  {
   "cell_type": "code",
   "execution_count": 11,
   "metadata": {},
   "outputs": [
    {
     "data": {
      "text/plain": [
       "0    255027\n",
       "1    149263\n",
       "Name: is_duplicate, dtype: int64"
      ]
     },
     "execution_count": 11,
     "metadata": {},
     "output_type": "execute_result"
    }
   ],
   "source": [
    "df['is_duplicate'].value_counts()"
   ]
  },
  {
   "cell_type": "code",
   "execution_count": 12,
   "metadata": {},
   "outputs": [
    {
     "data": {
      "text/plain": [
       "8461      50\n",
       "14110     48\n",
       "1749      47\n",
       "20628     47\n",
       "25984     47\n",
       "          ..\n",
       "223037     1\n",
       "223039     1\n",
       "223041     1\n",
       "223043     1\n",
       "537932     1\n",
       "Name: qid1, Length: 290654, dtype: int64"
      ]
     },
     "execution_count": 12,
     "metadata": {},
     "output_type": "execute_result"
    }
   ],
   "source": [
    "df['qid1'].value_counts()"
   ]
  },
  {
   "cell_type": "code",
   "execution_count": 13,
   "metadata": {},
   "outputs": [
    {
     "data": {
      "text/plain": [
       "30782     120\n",
       "2559      115\n",
       "4044      100\n",
       "2561       71\n",
       "17978      66\n",
       "         ... \n",
       "221429      1\n",
       "221433      1\n",
       "133300      1\n",
       "221437      1\n",
       "537933      1\n",
       "Name: qid2, Length: 299364, dtype: int64"
      ]
     },
     "execution_count": 13,
     "metadata": {},
     "output_type": "execute_result"
    }
   ],
   "source": [
    "df['qid2'].value_counts()"
   ]
  },
  {
   "attachments": {},
   "cell_type": "markdown",
   "metadata": {},
   "source": [
    "### Bag of Words with Basic Features"
   ]
  },
  {
   "cell_type": "code",
   "execution_count": 14,
   "metadata": {},
   "outputs": [],
   "source": [
    "new_df = df.sample(30000).dropna()"
   ]
  },
  {
   "cell_type": "code",
   "execution_count": 15,
   "metadata": {},
   "outputs": [
    {
     "data": {
      "text/plain": [
       "(30000, 6)"
      ]
     },
     "execution_count": 15,
     "metadata": {},
     "output_type": "execute_result"
    }
   ],
   "source": [
    "new_df.shape"
   ]
  },
  {
   "cell_type": "code",
   "execution_count": 16,
   "metadata": {},
   "outputs": [
    {
     "data": {
      "text/plain": [
       "0"
      ]
     },
     "execution_count": 16,
     "metadata": {},
     "output_type": "execute_result"
    }
   ],
   "source": [
    "new_df.duplicated().sum()"
   ]
  },
  {
   "cell_type": "code",
   "execution_count": 17,
   "metadata": {},
   "outputs": [
    {
     "name": "stdout",
     "output_type": "stream",
     "text": [
      "0    19167\n",
      "1    10833\n",
      "Name: is_duplicate, dtype: int64\n",
      "0    63.89\n",
      "1    36.11\n",
      "Name: is_duplicate, dtype: float64\n"
     ]
    },
    {
     "data": {
      "text/plain": [
       "<AxesSubplot:>"
      ]
     },
     "execution_count": 17,
     "metadata": {},
     "output_type": "execute_result"
    },
    {
     "data": {
      "image/png": "[encoded data removed]",
      "text/plain": [
       "<Figure size 432x288 with 1 Axes>"
      ]
     },
     "metadata": {
      "needs_background": "light"
     },
     "output_type": "display_data"
    }
   ],
   "source": [
    "print(new_df['is_duplicate'].value_counts())\n",
    "print((new_df['is_duplicate'].value_counts()/new_df['is_duplicate'].count())*100)\n",
    "new_df['is_duplicate'].value_counts().plot(kind='bar')"
   ]
  },
  {
   "cell_type": "code",
   "execution_count": 18,
   "metadata": {},
   "outputs": [
    {
     "name": "stdout",
     "output_type": "stream",
     "text": [
      "Number of unique questions 55685\n",
      "Number of questions getting repeated 3254\n"
     ]
    }
   ],
   "source": [
    "# Repeats \n",
    "qid = pd.Series(new_df['qid1'].tolist() + new_df['qid2'].tolist()) \n",
    "print(\"Number of unique questions\", np.unique(qid).shape[0]) \n",
    "x = qid.value_counts()> 1\n",
    "print(\"Number of questions getting repeated\", x[x].shape[0])"
   ]
  },
  {
   "cell_type": "code",
   "execution_count": 19,
   "metadata": {},
   "outputs": [
    {
     "data": {
      "image/png": "[encoded data removed]",
      "text/plain": [
       "<Figure size 432x288 with 1 Axes>"
      ]
     },
     "metadata": {
      "needs_background": "light"
     },
     "output_type": "display_data"
    }
   ],
   "source": [
    "# Repeated questions histogram \n",
    "plt.hist(qid.value_counts().values, bins=160) \n",
    "plt.yscale('log') \n",
    "plt.show()"
   ]
  },
  {
   "cell_type": "code",
   "execution_count": 20,
   "metadata": {},
   "outputs": [],
   "source": [
    "# Feature Engineering \n",
    "new_df['q1_len'] = new_df['question1'].str.len() \n",
    "new_df['q2_len'] = new_df['question2'].str.len()"
   ]
  },
  {
   "cell_type": "code",
   "execution_count": 21,
   "metadata": {},
   "outputs": [
    {
     "data": {
      "text/html": [
       "<div>\n",
       "<style scoped>\n",
       "    .dataframe tbody tr th:only-of-type {\n",
       "        vertical-align: middle;\n",
       "    }\n",
       "\n",
       "    .dataframe tbody tr th {\n",
       "        vertical-align: top;\n",
       "    }\n",
       "\n",
       "    .dataframe thead th {\n",
       "        text-align: right;\n",
       "    }\n",
       "</style>\n",
       "<table border=\"1\" class=\"dataframe\">\n",
       "  <thead>\n",
       "    <tr style=\"text-align: right;\">\n",
       "      <th></th>\n",
       "      <th>id</th>\n",
       "      <th>qid1</th>\n",
       "      <th>qid2</th>\n",
       "      <th>question1</th>\n",
       "      <th>question2</th>\n",
       "      <th>is_duplicate</th>\n",
       "      <th>q1_len</th>\n",
       "      <th>q2_len</th>\n",
       "    </tr>\n",
       "  </thead>\n",
       "  <tbody>\n",
       "    <tr>\n",
       "      <th>62155</th>\n",
       "      <td>62155</td>\n",
       "      <td>108393</td>\n",
       "      <td>108394</td>\n",
       "      <td>How do I get free WiFi on Android?</td>\n",
       "      <td>How can I get free wifi?</td>\n",
       "      <td>0</td>\n",
       "      <td>34</td>\n",
       "      <td>24</td>\n",
       "    </tr>\n",
       "    <tr>\n",
       "      <th>244172</th>\n",
       "      <td>244172</td>\n",
       "      <td>356759</td>\n",
       "      <td>338585</td>\n",
       "      <td>How is the word 'licentious' used in sentences?</td>\n",
       "      <td>How is the word 'preserve' used in a sentence?</td>\n",
       "      <td>0</td>\n",
       "      <td>47</td>\n",
       "      <td>46</td>\n",
       "    </tr>\n",
       "    <tr>\n",
       "      <th>150717</th>\n",
       "      <td>150717</td>\n",
       "      <td>4962</td>\n",
       "      <td>237148</td>\n",
       "      <td>What would happen if both Trump and Pence were...</td>\n",
       "      <td>If Trump and Pence are killed together before ...</td>\n",
       "      <td>1</td>\n",
       "      <td>81</td>\n",
       "      <td>148</td>\n",
       "    </tr>\n",
       "    <tr>\n",
       "      <th>247063</th>\n",
       "      <td>247063</td>\n",
       "      <td>360219</td>\n",
       "      <td>360220</td>\n",
       "      <td>Does Rogaine work, and if so, how quickly do y...</td>\n",
       "      <td>How well does Minoxidil (Rogaine) work?</td>\n",
       "      <td>0</td>\n",
       "      <td>61</td>\n",
       "      <td>39</td>\n",
       "    </tr>\n",
       "    <tr>\n",
       "      <th>229060</th>\n",
       "      <td>229060</td>\n",
       "      <td>338279</td>\n",
       "      <td>338280</td>\n",
       "      <td>Do you think Facebook Workplace will be succes...</td>\n",
       "      <td>What will it take for Workplace by Facebook to...</td>\n",
       "      <td>0</td>\n",
       "      <td>51</td>\n",
       "      <td>61</td>\n",
       "    </tr>\n",
       "  </tbody>\n",
       "</table>\n",
       "</div>"
      ],
      "text/plain": [
       "            id    qid1    qid2  \\\n",
       "62155    62155  108393  108394   \n",
       "244172  244172  356759  338585   \n",
       "150717  150717    4962  237148   \n",
       "247063  247063  360219  360220   \n",
       "229060  229060  338279  338280   \n",
       "\n",
       "                                                question1  \\\n",
       "62155                  How do I get free WiFi on Android?   \n",
       "244172    How is the word 'licentious' used in sentences?   \n",
       "150717  What would happen if both Trump and Pence were...   \n",
       "247063  Does Rogaine work, and if so, how quickly do y...   \n",
       "229060  Do you think Facebook Workplace will be succes...   \n",
       "\n",
       "                                                question2  is_duplicate  \\\n",
       "62155                            How can I get free wifi?             0   \n",
       "244172     How is the word 'preserve' used in a sentence?             0   \n",
       "150717  If Trump and Pence are killed together before ...             1   \n",
       "247063            How well does Minoxidil (Rogaine) work?             0   \n",
       "229060  What will it take for Workplace by Facebook to...             0   \n",
       "\n",
       "        q1_len  q2_len  \n",
       "62155       34      24  \n",
       "244172      47      46  \n",
       "150717      81     148  \n",
       "247063      61      39  \n",
       "229060      51      61  "
      ]
     },
     "execution_count": 21,
     "metadata": {},
     "output_type": "execute_result"
    }
   ],
   "source": [
    "new_df.head()"
   ]
  },
  {
   "cell_type": "code",
   "execution_count": 22,
   "metadata": {},
   "outputs": [
    {
     "data": {
      "text/html": [
       "<div>\n",
       "<style scoped>\n",
       "    .dataframe tbody tr th:only-of-type {\n",
       "        vertical-align: middle;\n",
       "    }\n",
       "\n",
       "    .dataframe tbody tr th {\n",
       "        vertical-align: top;\n",
       "    }\n",
       "\n",
       "    .dataframe thead th {\n",
       "        text-align: right;\n",
       "    }\n",
       "</style>\n",
       "<table border=\"1\" class=\"dataframe\">\n",
       "  <thead>\n",
       "    <tr style=\"text-align: right;\">\n",
       "      <th></th>\n",
       "      <th>id</th>\n",
       "      <th>qid1</th>\n",
       "      <th>qid2</th>\n",
       "      <th>question1</th>\n",
       "      <th>question2</th>\n",
       "      <th>is_duplicate</th>\n",
       "      <th>q1_len</th>\n",
       "      <th>q2_len</th>\n",
       "      <th>q1_words</th>\n",
       "      <th>q2_words</th>\n",
       "    </tr>\n",
       "  </thead>\n",
       "  <tbody>\n",
       "    <tr>\n",
       "      <th>62155</th>\n",
       "      <td>62155</td>\n",
       "      <td>108393</td>\n",
       "      <td>108394</td>\n",
       "      <td>How do I get free WiFi on Android?</td>\n",
       "      <td>How can I get free wifi?</td>\n",
       "      <td>0</td>\n",
       "      <td>34</td>\n",
       "      <td>24</td>\n",
       "      <td>8</td>\n",
       "      <td>6</td>\n",
       "    </tr>\n",
       "    <tr>\n",
       "      <th>244172</th>\n",
       "      <td>244172</td>\n",
       "      <td>356759</td>\n",
       "      <td>338585</td>\n",
       "      <td>How is the word 'licentious' used in sentences?</td>\n",
       "      <td>How is the word 'preserve' used in a sentence?</td>\n",
       "      <td>0</td>\n",
       "      <td>47</td>\n",
       "      <td>46</td>\n",
       "      <td>8</td>\n",
       "      <td>9</td>\n",
       "    </tr>\n",
       "    <tr>\n",
       "      <th>150717</th>\n",
       "      <td>150717</td>\n",
       "      <td>4962</td>\n",
       "      <td>237148</td>\n",
       "      <td>What would happen if both Trump and Pence were...</td>\n",
       "      <td>If Trump and Pence are killed together before ...</td>\n",
       "      <td>1</td>\n",
       "      <td>81</td>\n",
       "      <td>148</td>\n",
       "      <td>13</td>\n",
       "      <td>26</td>\n",
       "    </tr>\n",
       "    <tr>\n",
       "      <th>247063</th>\n",
       "      <td>247063</td>\n",
       "      <td>360219</td>\n",
       "      <td>360220</td>\n",
       "      <td>Does Rogaine work, and if so, how quickly do y...</td>\n",
       "      <td>How well does Minoxidil (Rogaine) work?</td>\n",
       "      <td>0</td>\n",
       "      <td>61</td>\n",
       "      <td>39</td>\n",
       "      <td>12</td>\n",
       "      <td>6</td>\n",
       "    </tr>\n",
       "    <tr>\n",
       "      <th>229060</th>\n",
       "      <td>229060</td>\n",
       "      <td>338279</td>\n",
       "      <td>338280</td>\n",
       "      <td>Do you think Facebook Workplace will be succes...</td>\n",
       "      <td>What will it take for Workplace by Facebook to...</td>\n",
       "      <td>0</td>\n",
       "      <td>51</td>\n",
       "      <td>61</td>\n",
       "      <td>8</td>\n",
       "      <td>11</td>\n",
       "    </tr>\n",
       "  </tbody>\n",
       "</table>\n",
       "</div>"
      ],
      "text/plain": [
       "            id    qid1    qid2  \\\n",
       "62155    62155  108393  108394   \n",
       "244172  244172  356759  338585   \n",
       "150717  150717    4962  237148   \n",
       "247063  247063  360219  360220   \n",
       "229060  229060  338279  338280   \n",
       "\n",
       "                                                question1  \\\n",
       "62155                  How do I get free WiFi on Android?   \n",
       "244172    How is the word 'licentious' used in sentences?   \n",
       "150717  What would happen if both Trump and Pence were...   \n",
       "247063  Does Rogaine work, and if so, how quickly do y...   \n",
       "229060  Do you think Facebook Workplace will be succes...   \n",
       "\n",
       "                                                question2  is_duplicate  \\\n",
       "62155                            How can I get free wifi?             0   \n",
       "244172     How is the word 'preserve' used in a sentence?             0   \n",
       "150717  If Trump and Pence are killed together before ...             1   \n",
       "247063            How well does Minoxidil (Rogaine) work?             0   \n",
       "229060  What will it take for Workplace by Facebook to...             0   \n",
       "\n",
       "        q1_len  q2_len  q1_words  q2_words  \n",
       "62155       34      24         8         6  \n",
       "244172      47      46         8         9  \n",
       "150717      81     148        13        26  \n",
       "247063      61      39        12         6  \n",
       "229060      51      61         8        11  "
      ]
     },
     "execution_count": 22,
     "metadata": {},
     "output_type": "execute_result"
    }
   ],
   "source": [
    "new_df['q1_words'] = new_df['question1'].apply(lambda row: len(row.split(\" \")))\n",
    "new_df['q2_words'] = new_df['question2'].apply(lambda row: len(row.split(\" \"))) \n",
    "new_df.head()"
   ]
  },
  {
   "cell_type": "code",
   "execution_count": 23,
   "metadata": {},
   "outputs": [],
   "source": [
    "def common_words(row):\n",
    "    w1 = set(map(lambda word: word.lower().strip(), row['question1'].split(\" \"))) \n",
    "    w2 = set(map(lambda word: word.lower().strip(), row['question2'].split(\" \")))\n",
    "    return len(w1 & w2)"
   ]
  },
  {
   "cell_type": "code",
   "execution_count": 24,
   "metadata": {},
   "outputs": [
    {
     "data": {
      "text/html": [
       "<div>\n",
       "<style scoped>\n",
       "    .dataframe tbody tr th:only-of-type {\n",
       "        vertical-align: middle;\n",
       "    }\n",
       "\n",
       "    .dataframe tbody tr th {\n",
       "        vertical-align: top;\n",
       "    }\n",
       "\n",
       "    .dataframe thead th {\n",
       "        text-align: right;\n",
       "    }\n",
       "</style>\n",
       "<table border=\"1\" class=\"dataframe\">\n",
       "  <thead>\n",
       "    <tr style=\"text-align: right;\">\n",
       "      <th></th>\n",
       "      <th>id</th>\n",
       "      <th>qid1</th>\n",
       "      <th>qid2</th>\n",
       "      <th>question1</th>\n",
       "      <th>question2</th>\n",
       "      <th>is_duplicate</th>\n",
       "      <th>q1_len</th>\n",
       "      <th>q2_len</th>\n",
       "      <th>q1_words</th>\n",
       "      <th>q2_words</th>\n",
       "      <th>common_words</th>\n",
       "    </tr>\n",
       "  </thead>\n",
       "  <tbody>\n",
       "    <tr>\n",
       "      <th>62155</th>\n",
       "      <td>62155</td>\n",
       "      <td>108393</td>\n",
       "      <td>108394</td>\n",
       "      <td>How do I get free WiFi on Android?</td>\n",
       "      <td>How can I get free wifi?</td>\n",
       "      <td>0</td>\n",
       "      <td>34</td>\n",
       "      <td>24</td>\n",
       "      <td>8</td>\n",
       "      <td>6</td>\n",
       "      <td>4</td>\n",
       "    </tr>\n",
       "    <tr>\n",
       "      <th>244172</th>\n",
       "      <td>244172</td>\n",
       "      <td>356759</td>\n",
       "      <td>338585</td>\n",
       "      <td>How is the word 'licentious' used in sentences?</td>\n",
       "      <td>How is the word 'preserve' used in a sentence?</td>\n",
       "      <td>0</td>\n",
       "      <td>47</td>\n",
       "      <td>46</td>\n",
       "      <td>8</td>\n",
       "      <td>9</td>\n",
       "      <td>6</td>\n",
       "    </tr>\n",
       "    <tr>\n",
       "      <th>150717</th>\n",
       "      <td>150717</td>\n",
       "      <td>4962</td>\n",
       "      <td>237148</td>\n",
       "      <td>What would happen if both Trump and Pence were...</td>\n",
       "      <td>If Trump and Pence are killed together before ...</td>\n",
       "      <td>1</td>\n",
       "      <td>81</td>\n",
       "      <td>148</td>\n",
       "      <td>13</td>\n",
       "      <td>26</td>\n",
       "      <td>9</td>\n",
       "    </tr>\n",
       "    <tr>\n",
       "      <th>247063</th>\n",
       "      <td>247063</td>\n",
       "      <td>360219</td>\n",
       "      <td>360220</td>\n",
       "      <td>Does Rogaine work, and if so, how quickly do y...</td>\n",
       "      <td>How well does Minoxidil (Rogaine) work?</td>\n",
       "      <td>0</td>\n",
       "      <td>61</td>\n",
       "      <td>39</td>\n",
       "      <td>12</td>\n",
       "      <td>6</td>\n",
       "      <td>2</td>\n",
       "    </tr>\n",
       "    <tr>\n",
       "      <th>229060</th>\n",
       "      <td>229060</td>\n",
       "      <td>338279</td>\n",
       "      <td>338280</td>\n",
       "      <td>Do you think Facebook Workplace will be succes...</td>\n",
       "      <td>What will it take for Workplace by Facebook to...</td>\n",
       "      <td>0</td>\n",
       "      <td>51</td>\n",
       "      <td>61</td>\n",
       "      <td>8</td>\n",
       "      <td>11</td>\n",
       "      <td>5</td>\n",
       "    </tr>\n",
       "  </tbody>\n",
       "</table>\n",
       "</div>"
      ],
      "text/plain": [
       "            id    qid1    qid2  \\\n",
       "62155    62155  108393  108394   \n",
       "244172  244172  356759  338585   \n",
       "150717  150717    4962  237148   \n",
       "247063  247063  360219  360220   \n",
       "229060  229060  338279  338280   \n",
       "\n",
       "                                                question1  \\\n",
       "62155                  How do I get free WiFi on Android?   \n",
       "244172    How is the word 'licentious' used in sentences?   \n",
       "150717  What would happen if both Trump and Pence were...   \n",
       "247063  Does Rogaine work, and if so, how quickly do y...   \n",
       "229060  Do you think Facebook Workplace will be succes...   \n",
       "\n",
       "                                                question2  is_duplicate  \\\n",
       "62155                            How can I get free wifi?             0   \n",
       "244172     How is the word 'preserve' used in a sentence?             0   \n",
       "150717  If Trump and Pence are killed together before ...             1   \n",
       "247063            How well does Minoxidil (Rogaine) work?             0   \n",
       "229060  What will it take for Workplace by Facebook to...             0   \n",
       "\n",
       "        q1_len  q2_len  q1_words  q2_words  common_words  \n",
       "62155       34      24         8         6             4  \n",
       "244172      47      46         8         9             6  \n",
       "150717      81     148        13        26             9  \n",
       "247063      61      39        12         6             2  \n",
       "229060      51      61         8        11             5  "
      ]
     },
     "execution_count": 24,
     "metadata": {},
     "output_type": "execute_result"
    }
   ],
   "source": [
    "new_df['common_words'] = new_df.apply(common_words, axis=1) \n",
    "new_df.head()"
   ]
  },
  {
   "cell_type": "code",
   "execution_count": 25,
   "metadata": {},
   "outputs": [],
   "source": [
    "def total_words(row):\n",
    "    w1 = set(map(lambda word: word.lower().strip(), row['question1'].split(\" \"))) \n",
    "    w2 = set(map(lambda word: word.lower().strip(), row[\"question2\"].split(\" \"))) \n",
    "    return (len(w1) + len(w2))"
   ]
  },
  {
   "cell_type": "code",
   "execution_count": 26,
   "metadata": {},
   "outputs": [
    {
     "data": {
      "text/html": [
       "<div>\n",
       "<style scoped>\n",
       "    .dataframe tbody tr th:only-of-type {\n",
       "        vertical-align: middle;\n",
       "    }\n",
       "\n",
       "    .dataframe tbody tr th {\n",
       "        vertical-align: top;\n",
       "    }\n",
       "\n",
       "    .dataframe thead th {\n",
       "        text-align: right;\n",
       "    }\n",
       "</style>\n",
       "<table border=\"1\" class=\"dataframe\">\n",
       "  <thead>\n",
       "    <tr style=\"text-align: right;\">\n",
       "      <th></th>\n",
       "      <th>id</th>\n",
       "      <th>qid1</th>\n",
       "      <th>qid2</th>\n",
       "      <th>question1</th>\n",
       "      <th>question2</th>\n",
       "      <th>is_duplicate</th>\n",
       "      <th>q1_len</th>\n",
       "      <th>q2_len</th>\n",
       "      <th>q1_words</th>\n",
       "      <th>q2_words</th>\n",
       "      <th>common_words</th>\n",
       "      <th>total_words</th>\n",
       "    </tr>\n",
       "  </thead>\n",
       "  <tbody>\n",
       "    <tr>\n",
       "      <th>62155</th>\n",
       "      <td>62155</td>\n",
       "      <td>108393</td>\n",
       "      <td>108394</td>\n",
       "      <td>How do I get free WiFi on Android?</td>\n",
       "      <td>How can I get free wifi?</td>\n",
       "      <td>0</td>\n",
       "      <td>34</td>\n",
       "      <td>24</td>\n",
       "      <td>8</td>\n",
       "      <td>6</td>\n",
       "      <td>4</td>\n",
       "      <td>14</td>\n",
       "    </tr>\n",
       "    <tr>\n",
       "      <th>244172</th>\n",
       "      <td>244172</td>\n",
       "      <td>356759</td>\n",
       "      <td>338585</td>\n",
       "      <td>How is the word 'licentious' used in sentences?</td>\n",
       "      <td>How is the word 'preserve' used in a sentence?</td>\n",
       "      <td>0</td>\n",
       "      <td>47</td>\n",
       "      <td>46</td>\n",
       "      <td>8</td>\n",
       "      <td>9</td>\n",
       "      <td>6</td>\n",
       "      <td>17</td>\n",
       "    </tr>\n",
       "    <tr>\n",
       "      <th>150717</th>\n",
       "      <td>150717</td>\n",
       "      <td>4962</td>\n",
       "      <td>237148</td>\n",
       "      <td>What would happen if both Trump and Pence were...</td>\n",
       "      <td>If Trump and Pence are killed together before ...</td>\n",
       "      <td>1</td>\n",
       "      <td>81</td>\n",
       "      <td>148</td>\n",
       "      <td>13</td>\n",
       "      <td>26</td>\n",
       "      <td>9</td>\n",
       "      <td>35</td>\n",
       "    </tr>\n",
       "    <tr>\n",
       "      <th>247063</th>\n",
       "      <td>247063</td>\n",
       "      <td>360219</td>\n",
       "      <td>360220</td>\n",
       "      <td>Does Rogaine work, and if so, how quickly do y...</td>\n",
       "      <td>How well does Minoxidil (Rogaine) work?</td>\n",
       "      <td>0</td>\n",
       "      <td>61</td>\n",
       "      <td>39</td>\n",
       "      <td>12</td>\n",
       "      <td>6</td>\n",
       "      <td>2</td>\n",
       "      <td>18</td>\n",
       "    </tr>\n",
       "    <tr>\n",
       "      <th>229060</th>\n",
       "      <td>229060</td>\n",
       "      <td>338279</td>\n",
       "      <td>338280</td>\n",
       "      <td>Do you think Facebook Workplace will be succes...</td>\n",
       "      <td>What will it take for Workplace by Facebook to...</td>\n",
       "      <td>0</td>\n",
       "      <td>51</td>\n",
       "      <td>61</td>\n",
       "      <td>8</td>\n",
       "      <td>11</td>\n",
       "      <td>5</td>\n",
       "      <td>19</td>\n",
       "    </tr>\n",
       "  </tbody>\n",
       "</table>\n",
       "</div>"
      ],
      "text/plain": [
       "            id    qid1    qid2  \\\n",
       "62155    62155  108393  108394   \n",
       "244172  244172  356759  338585   \n",
       "150717  150717    4962  237148   \n",
       "247063  247063  360219  360220   \n",
       "229060  229060  338279  338280   \n",
       "\n",
       "                                                question1  \\\n",
       "62155                  How do I get free WiFi on Android?   \n",
       "244172    How is the word 'licentious' used in sentences?   \n",
       "150717  What would happen if both Trump and Pence were...   \n",
       "247063  Does Rogaine work, and if so, how quickly do y...   \n",
       "229060  Do you think Facebook Workplace will be succes...   \n",
       "\n",
       "                                                question2  is_duplicate  \\\n",
       "62155                            How can I get free wifi?             0   \n",
       "244172     How is the word 'preserve' used in a sentence?             0   \n",
       "150717  If Trump and Pence are killed together before ...             1   \n",
       "247063            How well does Minoxidil (Rogaine) work?             0   \n",
       "229060  What will it take for Workplace by Facebook to...             0   \n",
       "\n",
       "        q1_len  q2_len  q1_words  q2_words  common_words  total_words  \n",
       "62155       34      24         8         6             4           14  \n",
       "244172      47      46         8         9             6           17  \n",
       "150717      81     148        13        26             9           35  \n",
       "247063      61      39        12         6             2           18  \n",
       "229060      51      61         8        11             5           19  "
      ]
     },
     "execution_count": 26,
     "metadata": {},
     "output_type": "execute_result"
    }
   ],
   "source": [
    "new_df[\"total_words\"] = new_df.apply(total_words, axis=1) \n",
    "new_df.head()"
   ]
  },
  {
   "cell_type": "code",
   "execution_count": 27,
   "metadata": {},
   "outputs": [
    {
     "data": {
      "text/html": [
       "<div>\n",
       "<style scoped>\n",
       "    .dataframe tbody tr th:only-of-type {\n",
       "        vertical-align: middle;\n",
       "    }\n",
       "\n",
       "    .dataframe tbody tr th {\n",
       "        vertical-align: top;\n",
       "    }\n",
       "\n",
       "    .dataframe thead th {\n",
       "        text-align: right;\n",
       "    }\n",
       "</style>\n",
       "<table border=\"1\" class=\"dataframe\">\n",
       "  <thead>\n",
       "    <tr style=\"text-align: right;\">\n",
       "      <th></th>\n",
       "      <th>id</th>\n",
       "      <th>qid1</th>\n",
       "      <th>qid2</th>\n",
       "      <th>question1</th>\n",
       "      <th>question2</th>\n",
       "      <th>is_duplicate</th>\n",
       "      <th>q1_len</th>\n",
       "      <th>q2_len</th>\n",
       "      <th>q1_words</th>\n",
       "      <th>q2_words</th>\n",
       "      <th>common_words</th>\n",
       "      <th>total_words</th>\n",
       "      <th>shared_words</th>\n",
       "    </tr>\n",
       "  </thead>\n",
       "  <tbody>\n",
       "    <tr>\n",
       "      <th>62155</th>\n",
       "      <td>62155</td>\n",
       "      <td>108393</td>\n",
       "      <td>108394</td>\n",
       "      <td>How do I get free WiFi on Android?</td>\n",
       "      <td>How can I get free wifi?</td>\n",
       "      <td>0</td>\n",
       "      <td>34</td>\n",
       "      <td>24</td>\n",
       "      <td>8</td>\n",
       "      <td>6</td>\n",
       "      <td>4</td>\n",
       "      <td>14</td>\n",
       "      <td>0.29</td>\n",
       "    </tr>\n",
       "    <tr>\n",
       "      <th>244172</th>\n",
       "      <td>244172</td>\n",
       "      <td>356759</td>\n",
       "      <td>338585</td>\n",
       "      <td>How is the word 'licentious' used in sentences?</td>\n",
       "      <td>How is the word 'preserve' used in a sentence?</td>\n",
       "      <td>0</td>\n",
       "      <td>47</td>\n",
       "      <td>46</td>\n",
       "      <td>8</td>\n",
       "      <td>9</td>\n",
       "      <td>6</td>\n",
       "      <td>17</td>\n",
       "      <td>0.35</td>\n",
       "    </tr>\n",
       "    <tr>\n",
       "      <th>150717</th>\n",
       "      <td>150717</td>\n",
       "      <td>4962</td>\n",
       "      <td>237148</td>\n",
       "      <td>What would happen if both Trump and Pence were...</td>\n",
       "      <td>If Trump and Pence are killed together before ...</td>\n",
       "      <td>1</td>\n",
       "      <td>81</td>\n",
       "      <td>148</td>\n",
       "      <td>13</td>\n",
       "      <td>26</td>\n",
       "      <td>9</td>\n",
       "      <td>35</td>\n",
       "      <td>0.26</td>\n",
       "    </tr>\n",
       "    <tr>\n",
       "      <th>247063</th>\n",
       "      <td>247063</td>\n",
       "      <td>360219</td>\n",
       "      <td>360220</td>\n",
       "      <td>Does Rogaine work, and if so, how quickly do y...</td>\n",
       "      <td>How well does Minoxidil (Rogaine) work?</td>\n",
       "      <td>0</td>\n",
       "      <td>61</td>\n",
       "      <td>39</td>\n",
       "      <td>12</td>\n",
       "      <td>6</td>\n",
       "      <td>2</td>\n",
       "      <td>18</td>\n",
       "      <td>0.11</td>\n",
       "    </tr>\n",
       "    <tr>\n",
       "      <th>229060</th>\n",
       "      <td>229060</td>\n",
       "      <td>338279</td>\n",
       "      <td>338280</td>\n",
       "      <td>Do you think Facebook Workplace will be succes...</td>\n",
       "      <td>What will it take for Workplace by Facebook to...</td>\n",
       "      <td>0</td>\n",
       "      <td>51</td>\n",
       "      <td>61</td>\n",
       "      <td>8</td>\n",
       "      <td>11</td>\n",
       "      <td>5</td>\n",
       "      <td>19</td>\n",
       "      <td>0.26</td>\n",
       "    </tr>\n",
       "  </tbody>\n",
       "</table>\n",
       "</div>"
      ],
      "text/plain": [
       "            id    qid1    qid2  \\\n",
       "62155    62155  108393  108394   \n",
       "244172  244172  356759  338585   \n",
       "150717  150717    4962  237148   \n",
       "247063  247063  360219  360220   \n",
       "229060  229060  338279  338280   \n",
       "\n",
       "                                                question1  \\\n",
       "62155                  How do I get free WiFi on Android?   \n",
       "244172    How is the word 'licentious' used in sentences?   \n",
       "150717  What would happen if both Trump and Pence were...   \n",
       "247063  Does Rogaine work, and if so, how quickly do y...   \n",
       "229060  Do you think Facebook Workplace will be succes...   \n",
       "\n",
       "                                                question2  is_duplicate  \\\n",
       "62155                            How can I get free wifi?             0   \n",
       "244172     How is the word 'preserve' used in a sentence?             0   \n",
       "150717  If Trump and Pence are killed together before ...             1   \n",
       "247063            How well does Minoxidil (Rogaine) work?             0   \n",
       "229060  What will it take for Workplace by Facebook to...             0   \n",
       "\n",
       "        q1_len  q2_len  q1_words  q2_words  common_words  total_words  \\\n",
       "62155       34      24         8         6             4           14   \n",
       "244172      47      46         8         9             6           17   \n",
       "150717      81     148        13        26             9           35   \n",
       "247063      61      39        12         6             2           18   \n",
       "229060      51      61         8        11             5           19   \n",
       "\n",
       "        shared_words  \n",
       "62155           0.29  \n",
       "244172          0.35  \n",
       "150717          0.26  \n",
       "247063          0.11  \n",
       "229060          0.26  "
      ]
     },
     "execution_count": 27,
     "metadata": {},
     "output_type": "execute_result"
    }
   ],
   "source": [
    "new_df['shared_words'] = round(new_df['common_words']/new_df['total_words'], 2)\n",
    "new_df.head()"
   ]
  },
  {
   "cell_type": "code",
   "execution_count": 28,
   "metadata": {},
   "outputs": [
    {
     "name": "stdout",
     "output_type": "stream",
     "text": [
      "Minimum characters:  1\n",
      "Maximum characters:  313\n",
      "Average num of characters:  59\n"
     ]
    },
    {
     "data": {
      "image/png": "[encoded data removed]",
      "text/plain": [
       "<Figure size 360x360 with 1 Axes>"
      ]
     },
     "metadata": {
      "needs_background": "light"
     },
     "output_type": "display_data"
    }
   ],
   "source": [
    "# Analysis of features \n",
    "sns.displot(new_df['q1_len']) \n",
    "print('Minimum characters: ', new_df['q1_len'].min()) \n",
    "print(\"Maximum characters: \", new_df[\"q1_len\"].max()) \n",
    "print(\"Average num of characters: \", int(new_df['q1_len'].mean()))"
   ]
  },
  {
   "cell_type": "code",
   "execution_count": 29,
   "metadata": {},
   "outputs": [
    {
     "name": "stdout",
     "output_type": "stream",
     "text": [
      "Minimum characters:  7\n",
      "Maximum characters:  726\n",
      "Average num of characters:  60\n"
     ]
    },
    {
     "data": {
      "image/png": "[encoded data removed]",
      "text/plain": [
       "<Figure size 360x360 with 1 Axes>"
      ]
     },
     "metadata": {
      "needs_background": "light"
     },
     "output_type": "display_data"
    }
   ],
   "source": [
    "# Analysis of features \n",
    "sns.displot(new_df['q2_len']) \n",
    "print('Minimum characters: ', new_df['q2_len'].min()) \n",
    "print(\"Maximum characters: \", new_df[\"q2_len\"].max()) \n",
    "print(\"Average num of characters: \", int(new_df['q2_len'].mean()))"
   ]
  },
  {
   "cell_type": "code",
   "execution_count": 30,
   "metadata": {},
   "outputs": [
    {
     "name": "stdout",
     "output_type": "stream",
     "text": [
      "Minimum characters:  1\n",
      "Maximum characters:  64\n",
      "Average num of characters:  10\n"
     ]
    },
    {
     "data": {
      "image/png": "[encoded data removed]",
      "text/plain": [
       "<Figure size 360x360 with 1 Axes>"
      ]
     },
     "metadata": {
      "needs_background": "light"
     },
     "output_type": "display_data"
    }
   ],
   "source": [
    "# Analysis of features \n",
    "sns.displot(new_df['q1_words']) \n",
    "print('Minimum characters: ', new_df['q1_words'].min()) \n",
    "print(\"Maximum characters: \", new_df[\"q1_words\"].max()) \n",
    "print(\"Average num of characters: \", int(new_df['q1_words'].mean()))"
   ]
  },
  {
   "cell_type": "code",
   "execution_count": 31,
   "metadata": {},
   "outputs": [
    {
     "name": "stdout",
     "output_type": "stream",
     "text": [
      "Minimum characters:  1\n",
      "Maximum characters:  127\n",
      "Average num of characters:  11\n"
     ]
    },
    {
     "data": {
      "image/png": "[encoded data removed]",
      "text/plain": [
       "<Figure size 360x360 with 1 Axes>"
      ]
     },
     "metadata": {
      "needs_background": "light"
     },
     "output_type": "display_data"
    }
   ],
   "source": [
    "# Analysis of features \n",
    "sns.displot(new_df['q2_words']) \n",
    "print('Minimum characters: ', new_df['q2_words'].min()) \n",
    "print(\"Maximum characters: \", new_df[\"q2_words\"].max()) \n",
    "print(\"Average num of characters: \", int(new_df['q2_words'].mean()))"
   ]
  },
  {
   "cell_type": "code",
   "execution_count": 41,
   "metadata": {},
   "outputs": [
    {
     "data": {
      "image/png": "[encoded data removed]",
      "text/plain": [
       "<Figure size 432x288 with 1 Axes>"
      ]
     },
     "metadata": {
      "needs_background": "light"
     },
     "output_type": "display_data"
    }
   ],
   "source": [
    "# Common words \n",
    "sns.distplot(new_df[new_df[\"is_duplicate\"] == 0]['common_words'],label='non_duplicate')\n",
    "sns.distplot(new_df[new_df['is_duplicate'] == 1]['common_words'], label='duplicate')\n",
    "plt.legend() \n",
    "plt.show()"
   ]
  },
  {
   "cell_type": "code",
   "execution_count": 42,
   "metadata": {},
   "outputs": [
    {
     "data": {
      "image/png": "[encoded data removed]",
      "text/plain": [
       "<Figure size 432x288 with 1 Axes>"
      ]
     },
     "metadata": {
      "needs_background": "light"
     },
     "output_type": "display_data"
    }
   ],
   "source": [
    "sns.distplot(new_df[new_df[\"is_duplicate\"] == 0]['total_words'],label='non_duplicate')\n",
    "sns.distplot(new_df[new_df['is_duplicate'] == 1]['total_words'], label='duplicate')\n",
    "plt.legend() \n",
    "plt.show()"
   ]
  },
  {
   "cell_type": "code",
   "execution_count": 44,
   "metadata": {},
   "outputs": [
    {
     "data": {
      "image/png": "[encoded data removed]",
      "text/plain": [
       "<Figure size 432x288 with 1 Axes>"
      ]
     },
     "metadata": {
      "needs_background": "light"
     },
     "output_type": "display_data"
    }
   ],
   "source": [
    "sns.distplot(new_df[new_df[\"is_duplicate\"] == 0]['shared_words'],label='non_duplicate')\n",
    "sns.distplot(new_df[new_df['is_duplicate'] == 1]['shared_words'], label='duplicate')\n",
    "plt.legend() \n",
    "plt.show()"
   ]
  },
  {
   "cell_type": "code",
   "execution_count": 45,
   "metadata": {},
   "outputs": [
    {
     "data": {
      "text/html": [
       "<div>\n",
       "<style scoped>\n",
       "    .dataframe tbody tr th:only-of-type {\n",
       "        vertical-align: middle;\n",
       "    }\n",
       "\n",
       "    .dataframe tbody tr th {\n",
       "        vertical-align: top;\n",
       "    }\n",
       "\n",
       "    .dataframe thead th {\n",
       "        text-align: right;\n",
       "    }\n",
       "</style>\n",
       "<table border=\"1\" class=\"dataframe\">\n",
       "  <thead>\n",
       "    <tr style=\"text-align: right;\">\n",
       "      <th></th>\n",
       "      <th>question1</th>\n",
       "      <th>question2</th>\n",
       "    </tr>\n",
       "  </thead>\n",
       "  <tbody>\n",
       "    <tr>\n",
       "      <th>62155</th>\n",
       "      <td>How do I get free WiFi on Android?</td>\n",
       "      <td>How can I get free wifi?</td>\n",
       "    </tr>\n",
       "    <tr>\n",
       "      <th>244172</th>\n",
       "      <td>How is the word 'licentious' used in sentences?</td>\n",
       "      <td>How is the word 'preserve' used in a sentence?</td>\n",
       "    </tr>\n",
       "    <tr>\n",
       "      <th>150717</th>\n",
       "      <td>What would happen if both Trump and Pence were...</td>\n",
       "      <td>If Trump and Pence are killed together before ...</td>\n",
       "    </tr>\n",
       "    <tr>\n",
       "      <th>247063</th>\n",
       "      <td>Does Rogaine work, and if so, how quickly do y...</td>\n",
       "      <td>How well does Minoxidil (Rogaine) work?</td>\n",
       "    </tr>\n",
       "    <tr>\n",
       "      <th>229060</th>\n",
       "      <td>Do you think Facebook Workplace will be succes...</td>\n",
       "      <td>What will it take for Workplace by Facebook to...</td>\n",
       "    </tr>\n",
       "  </tbody>\n",
       "</table>\n",
       "</div>"
      ],
      "text/plain": [
       "                                                question1  \\\n",
       "62155                  How do I get free WiFi on Android?   \n",
       "244172    How is the word 'licentious' used in sentences?   \n",
       "150717  What would happen if both Trump and Pence were...   \n",
       "247063  Does Rogaine work, and if so, how quickly do y...   \n",
       "229060  Do you think Facebook Workplace will be succes...   \n",
       "\n",
       "                                                question2  \n",
       "62155                            How can I get free wifi?  \n",
       "244172     How is the word 'preserve' used in a sentence?  \n",
       "150717  If Trump and Pence are killed together before ...  \n",
       "247063            How well does Minoxidil (Rogaine) work?  \n",
       "229060  What will it take for Workplace by Facebook to...  "
      ]
     },
     "execution_count": 45,
     "metadata": {},
     "output_type": "execute_result"
    }
   ],
   "source": [
    "ques_df = new_df[[\"question1\",\"question2\"]]\n",
    "ques_df.head()"
   ]
  },
  {
   "cell_type": "code",
   "execution_count": 46,
   "metadata": {},
   "outputs": [
    {
     "name": "stdout",
     "output_type": "stream",
     "text": [
      "(30000, 8)\n"
     ]
    },
    {
     "data": {
      "text/html": [
       "<div>\n",
       "<style scoped>\n",
       "    .dataframe tbody tr th:only-of-type {\n",
       "        vertical-align: middle;\n",
       "    }\n",
       "\n",
       "    .dataframe tbody tr th {\n",
       "        vertical-align: top;\n",
       "    }\n",
       "\n",
       "    .dataframe thead th {\n",
       "        text-align: right;\n",
       "    }\n",
       "</style>\n",
       "<table border=\"1\" class=\"dataframe\">\n",
       "  <thead>\n",
       "    <tr style=\"text-align: right;\">\n",
       "      <th></th>\n",
       "      <th>is_duplicate</th>\n",
       "      <th>q1_len</th>\n",
       "      <th>q2_len</th>\n",
       "      <th>q1_words</th>\n",
       "      <th>q2_words</th>\n",
       "      <th>common_words</th>\n",
       "      <th>total_words</th>\n",
       "      <th>shared_words</th>\n",
       "    </tr>\n",
       "  </thead>\n",
       "  <tbody>\n",
       "    <tr>\n",
       "      <th>62155</th>\n",
       "      <td>0</td>\n",
       "      <td>34</td>\n",
       "      <td>24</td>\n",
       "      <td>8</td>\n",
       "      <td>6</td>\n",
       "      <td>4</td>\n",
       "      <td>14</td>\n",
       "      <td>0.29</td>\n",
       "    </tr>\n",
       "    <tr>\n",
       "      <th>244172</th>\n",
       "      <td>0</td>\n",
       "      <td>47</td>\n",
       "      <td>46</td>\n",
       "      <td>8</td>\n",
       "      <td>9</td>\n",
       "      <td>6</td>\n",
       "      <td>17</td>\n",
       "      <td>0.35</td>\n",
       "    </tr>\n",
       "    <tr>\n",
       "      <th>150717</th>\n",
       "      <td>1</td>\n",
       "      <td>81</td>\n",
       "      <td>148</td>\n",
       "      <td>13</td>\n",
       "      <td>26</td>\n",
       "      <td>9</td>\n",
       "      <td>35</td>\n",
       "      <td>0.26</td>\n",
       "    </tr>\n",
       "    <tr>\n",
       "      <th>247063</th>\n",
       "      <td>0</td>\n",
       "      <td>61</td>\n",
       "      <td>39</td>\n",
       "      <td>12</td>\n",
       "      <td>6</td>\n",
       "      <td>2</td>\n",
       "      <td>18</td>\n",
       "      <td>0.11</td>\n",
       "    </tr>\n",
       "    <tr>\n",
       "      <th>229060</th>\n",
       "      <td>0</td>\n",
       "      <td>51</td>\n",
       "      <td>61</td>\n",
       "      <td>8</td>\n",
       "      <td>11</td>\n",
       "      <td>5</td>\n",
       "      <td>19</td>\n",
       "      <td>0.26</td>\n",
       "    </tr>\n",
       "  </tbody>\n",
       "</table>\n",
       "</div>"
      ],
      "text/plain": [
       "        is_duplicate  q1_len  q2_len  q1_words  q2_words  common_words  \\\n",
       "62155              0      34      24         8         6             4   \n",
       "244172             0      47      46         8         9             6   \n",
       "150717             1      81     148        13        26             9   \n",
       "247063             0      61      39        12         6             2   \n",
       "229060             0      51      61         8        11             5   \n",
       "\n",
       "        total_words  shared_words  \n",
       "62155            14          0.29  \n",
       "244172           17          0.35  \n",
       "150717           35          0.26  \n",
       "247063           18          0.11  \n",
       "229060           19          0.26  "
      ]
     },
     "execution_count": 46,
     "metadata": {},
     "output_type": "execute_result"
    }
   ],
   "source": [
    "final_df = new_df.drop(columns=['id','qid1','qid2','question1','question2'])\n",
    "print(final_df.shape) \n",
    "final_df.head()"
   ]
  },
  {
   "cell_type": "code",
   "execution_count": 47,
   "metadata": {},
   "outputs": [],
   "source": [
    "from sklearn.feature_extraction.text import CountVectorizer \n",
    "# merge texts \n",
    "questions = list(ques_df['question1']) + list(ques_df['question2'])\n",
    "\n",
    "cv = CountVectorizer(max_features=3000) \n",
    "q1_arr, q2_arr = np.vsplit(cv.fit_transform(questions).toarray(),2)"
   ]
  },
  {
   "cell_type": "code",
   "execution_count": 48,
   "metadata": {},
   "outputs": [
    {
     "data": {
      "text/plain": [
       "(30000, 6000)"
      ]
     },
     "execution_count": 48,
     "metadata": {},
     "output_type": "execute_result"
    }
   ],
   "source": [
    "temp_df1 = pd.DataFrame(q1_arr, index=ques_df.index) \n",
    "temp_df2 = pd.DataFrame(q2_arr, index=ques_df.index) \n",
    "temp_df = pd.concat([temp_df1, temp_df2], axis=1) \n",
    "temp_df.shape"
   ]
  },
  {
   "cell_type": "code",
   "execution_count": 49,
   "metadata": {},
   "outputs": [
    {
     "name": "stdout",
     "output_type": "stream",
     "text": [
      "(30000, 6008)\n"
     ]
    },
    {
     "data": {
      "text/html": [
       "<div>\n",
       "<style scoped>\n",
       "    .dataframe tbody tr th:only-of-type {\n",
       "        vertical-align: middle;\n",
       "    }\n",
       "\n",
       "    .dataframe tbody tr th {\n",
       "        vertical-align: top;\n",
       "    }\n",
       "\n",
       "    .dataframe thead th {\n",
       "        text-align: right;\n",
       "    }\n",
       "</style>\n",
       "<table border=\"1\" class=\"dataframe\">\n",
       "  <thead>\n",
       "    <tr style=\"text-align: right;\">\n",
       "      <th></th>\n",
       "      <th>is_duplicate</th>\n",
       "      <th>q1_len</th>\n",
       "      <th>q2_len</th>\n",
       "      <th>q1_words</th>\n",
       "      <th>q2_words</th>\n",
       "      <th>common_words</th>\n",
       "      <th>total_words</th>\n",
       "      <th>shared_words</th>\n",
       "      <th>0</th>\n",
       "      <th>1</th>\n",
       "      <th>...</th>\n",
       "      <th>2990</th>\n",
       "      <th>2991</th>\n",
       "      <th>2992</th>\n",
       "      <th>2993</th>\n",
       "      <th>2994</th>\n",
       "      <th>2995</th>\n",
       "      <th>2996</th>\n",
       "      <th>2997</th>\n",
       "      <th>2998</th>\n",
       "      <th>2999</th>\n",
       "    </tr>\n",
       "  </thead>\n",
       "  <tbody>\n",
       "    <tr>\n",
       "      <th>62155</th>\n",
       "      <td>0</td>\n",
       "      <td>34</td>\n",
       "      <td>24</td>\n",
       "      <td>8</td>\n",
       "      <td>6</td>\n",
       "      <td>4</td>\n",
       "      <td>14</td>\n",
       "      <td>0.29</td>\n",
       "      <td>0</td>\n",
       "      <td>0</td>\n",
       "      <td>...</td>\n",
       "      <td>0</td>\n",
       "      <td>0</td>\n",
       "      <td>0</td>\n",
       "      <td>0</td>\n",
       "      <td>0</td>\n",
       "      <td>0</td>\n",
       "      <td>0</td>\n",
       "      <td>0</td>\n",
       "      <td>0</td>\n",
       "      <td>0</td>\n",
       "    </tr>\n",
       "    <tr>\n",
       "      <th>244172</th>\n",
       "      <td>0</td>\n",
       "      <td>47</td>\n",
       "      <td>46</td>\n",
       "      <td>8</td>\n",
       "      <td>9</td>\n",
       "      <td>6</td>\n",
       "      <td>17</td>\n",
       "      <td>0.35</td>\n",
       "      <td>0</td>\n",
       "      <td>0</td>\n",
       "      <td>...</td>\n",
       "      <td>0</td>\n",
       "      <td>0</td>\n",
       "      <td>0</td>\n",
       "      <td>0</td>\n",
       "      <td>0</td>\n",
       "      <td>0</td>\n",
       "      <td>0</td>\n",
       "      <td>0</td>\n",
       "      <td>0</td>\n",
       "      <td>0</td>\n",
       "    </tr>\n",
       "    <tr>\n",
       "      <th>150717</th>\n",
       "      <td>1</td>\n",
       "      <td>81</td>\n",
       "      <td>148</td>\n",
       "      <td>13</td>\n",
       "      <td>26</td>\n",
       "      <td>9</td>\n",
       "      <td>35</td>\n",
       "      <td>0.26</td>\n",
       "      <td>0</td>\n",
       "      <td>0</td>\n",
       "      <td>...</td>\n",
       "      <td>0</td>\n",
       "      <td>0</td>\n",
       "      <td>0</td>\n",
       "      <td>0</td>\n",
       "      <td>0</td>\n",
       "      <td>0</td>\n",
       "      <td>0</td>\n",
       "      <td>0</td>\n",
       "      <td>0</td>\n",
       "      <td>0</td>\n",
       "    </tr>\n",
       "    <tr>\n",
       "      <th>247063</th>\n",
       "      <td>0</td>\n",
       "      <td>61</td>\n",
       "      <td>39</td>\n",
       "      <td>12</td>\n",
       "      <td>6</td>\n",
       "      <td>2</td>\n",
       "      <td>18</td>\n",
       "      <td>0.11</td>\n",
       "      <td>0</td>\n",
       "      <td>0</td>\n",
       "      <td>...</td>\n",
       "      <td>0</td>\n",
       "      <td>0</td>\n",
       "      <td>0</td>\n",
       "      <td>0</td>\n",
       "      <td>0</td>\n",
       "      <td>0</td>\n",
       "      <td>0</td>\n",
       "      <td>0</td>\n",
       "      <td>0</td>\n",
       "      <td>0</td>\n",
       "    </tr>\n",
       "    <tr>\n",
       "      <th>229060</th>\n",
       "      <td>0</td>\n",
       "      <td>51</td>\n",
       "      <td>61</td>\n",
       "      <td>8</td>\n",
       "      <td>11</td>\n",
       "      <td>5</td>\n",
       "      <td>19</td>\n",
       "      <td>0.26</td>\n",
       "      <td>0</td>\n",
       "      <td>0</td>\n",
       "      <td>...</td>\n",
       "      <td>0</td>\n",
       "      <td>0</td>\n",
       "      <td>0</td>\n",
       "      <td>0</td>\n",
       "      <td>0</td>\n",
       "      <td>0</td>\n",
       "      <td>0</td>\n",
       "      <td>0</td>\n",
       "      <td>0</td>\n",
       "      <td>0</td>\n",
       "    </tr>\n",
       "  </tbody>\n",
       "</table>\n",
       "<p>5 rows × 6008 columns</p>\n",
       "</div>"
      ],
      "text/plain": [
       "        is_duplicate  q1_len  q2_len  q1_words  q2_words  common_words  \\\n",
       "62155              0      34      24         8         6             4   \n",
       "244172             0      47      46         8         9             6   \n",
       "150717             1      81     148        13        26             9   \n",
       "247063             0      61      39        12         6             2   \n",
       "229060             0      51      61         8        11             5   \n",
       "\n",
       "        total_words  shared_words  0  1  ...  2990  2991  2992  2993  2994  \\\n",
       "62155            14          0.29  0  0  ...     0     0     0     0     0   \n",
       "244172           17          0.35  0  0  ...     0     0     0     0     0   \n",
       "150717           35          0.26  0  0  ...     0     0     0     0     0   \n",
       "247063           18          0.11  0  0  ...     0     0     0     0     0   \n",
       "229060           19          0.26  0  0  ...     0     0     0     0     0   \n",
       "\n",
       "        2995  2996  2997  2998  2999  \n",
       "62155      0     0     0     0     0  \n",
       "244172     0     0     0     0     0  \n",
       "150717     0     0     0     0     0  \n",
       "247063     0     0     0     0     0  \n",
       "229060     0     0     0     0     0  \n",
       "\n",
       "[5 rows x 6008 columns]"
      ]
     },
     "execution_count": 49,
     "metadata": {},
     "output_type": "execute_result"
    }
   ],
   "source": [
    "final_df = pd.concat([final_df, temp_df], axis=1) \n",
    "print(final_df.shape) \n",
    "final_df.head()"
   ]
  },
  {
   "cell_type": "code",
   "execution_count": 50,
   "metadata": {},
   "outputs": [],
   "source": [
    "from sklearn.model_selection import train_test_split \n",
    "X_train, X_test, y_train, y_test  = train_test_split(final_df.iloc[:,1:].values, final_df.iloc[:,0].values, test_size=0.2, random_state=True) "
   ]
  },
  {
   "cell_type": "code",
   "execution_count": 51,
   "metadata": {},
   "outputs": [
    {
     "data": {
      "text/plain": [
       "0.7816666666666666"
      ]
     },
     "execution_count": 51,
     "metadata": {},
     "output_type": "execute_result"
    }
   ],
   "source": [
    "from sklearn.ensemble import RandomForestClassifier \n",
    "from sklearn.metrics import accuracy_score \n",
    "rf = RandomForestClassifier() \n",
    "rf.fit(X_train, y_train) \n",
    "y_pred = rf.predict(X_test) \n",
    "accuracy_score(y_test, y_pred)"
   ]
  },
  {
   "cell_type": "code",
   "execution_count": 52,
   "metadata": {},
   "outputs": [
    {
     "data": {
      "text/plain": [
       "0.7773333333333333"
      ]
     },
     "execution_count": 52,
     "metadata": {},
     "output_type": "execute_result"
    }
   ],
   "source": [
    "from xgboost import XGBClassifier \n",
    "xgb = XGBClassifier() \n",
    "xgb.fit(X_train, y_train)\n",
    "y_pred = xgb.predict(X_test) \n",
    "accuracy_score(y_test, y_pred)"
   ]
  },
  {
   "cell_type": "code",
   "execution_count": null,
   "metadata": {},
   "outputs": [],
   "source": []
  }
 ],
 "metadata": {
  "kernelspec": {
   "display_name": "Python 3",
   "language": "python",
   "name": "python3"
  },
  "language_info": {
   "codemirror_mode": {
    "name": "ipython",
    "version": 3
   },
   "file_extension": ".py",
   "mimetype": "text/x-python",
   "name": "python",
   "nbconvert_exporter": "python",
   "pygments_lexer": "ipython3",
   "version": "3.10.7"
  },
  "orig_nbformat": 4,
  "vscode": {
   "interpreter": {
    "hash": "26de051ba29f2982a8de78e945f0abaf191376122a1563185a90213a26c5da77"
   }
  }
 },
 "nbformat": 4,
 "nbformat_minor": 2
}
