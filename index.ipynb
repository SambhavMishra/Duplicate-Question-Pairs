{
 "cells": [
  {
   "cell_type": "code",
   "execution_count": 1,
   "metadata": {},
   "outputs": [],
   "source": [
    "import numpy as np\n",
    "import pandas as pd\n",
    "import seaborn as sns \n",
    "import matplotlib.pyplot as plt  "
   ]
  },
  {
   "cell_type": "code",
   "execution_count": 2,
   "metadata": {},
   "outputs": [
    {
     "data": {
      "text/plain": [
       "(404290, 6)"
      ]
     },
     "execution_count": 2,
     "metadata": {},
     "output_type": "execute_result"
    }
   ],
   "source": [
    "path = r'train.csv/train.csv'\n",
    "df = pd.read_csv(path)\n",
    "df.shape"
   ]
  },
  {
   "cell_type": "code",
   "execution_count": 4,
   "metadata": {},
   "outputs": [
    {
     "data": {
      "text/html": [
       "<div>\n",
       "<style scoped>\n",
       "    .dataframe tbody tr th:only-of-type {\n",
       "        vertical-align: middle;\n",
       "    }\n",
       "\n",
       "    .dataframe tbody tr th {\n",
       "        vertical-align: top;\n",
       "    }\n",
       "\n",
       "    .dataframe thead th {\n",
       "        text-align: right;\n",
       "    }\n",
       "</style>\n",
       "<table border=\"1\" class=\"dataframe\">\n",
       "  <thead>\n",
       "    <tr style=\"text-align: right;\">\n",
       "      <th></th>\n",
       "      <th>id</th>\n",
       "      <th>qid1</th>\n",
       "      <th>qid2</th>\n",
       "      <th>question1</th>\n",
       "      <th>question2</th>\n",
       "      <th>is_duplicate</th>\n",
       "    </tr>\n",
       "  </thead>\n",
       "  <tbody>\n",
       "    <tr>\n",
       "      <th>398574</th>\n",
       "      <td>398574</td>\n",
       "      <td>531806</td>\n",
       "      <td>531807</td>\n",
       "      <td>I am hindu I am in relationship from last 8 ye...</td>\n",
       "      <td>I am a 24-year-old Hindu girl. I want to marry...</td>\n",
       "      <td>0</td>\n",
       "    </tr>\n",
       "    <tr>\n",
       "      <th>114720</th>\n",
       "      <td>114720</td>\n",
       "      <td>12623</td>\n",
       "      <td>63816</td>\n",
       "      <td>How do I use Reddit efficiently?</td>\n",
       "      <td>What is Reddit and how do I use it?</td>\n",
       "      <td>1</td>\n",
       "    </tr>\n",
       "    <tr>\n",
       "      <th>139772</th>\n",
       "      <td>139772</td>\n",
       "      <td>222259</td>\n",
       "      <td>222260</td>\n",
       "      <td>Do any galaxies appear blueshifted?</td>\n",
       "      <td>Psychopaths: what words would you use to descr...</td>\n",
       "      <td>0</td>\n",
       "    </tr>\n",
       "    <tr>\n",
       "      <th>253975</th>\n",
       "      <td>253975</td>\n",
       "      <td>16416</td>\n",
       "      <td>132600</td>\n",
       "      <td>What are the best books for preparing for IBPS...</td>\n",
       "      <td>What are the best books for IBPS PO, SBI SO, S...</td>\n",
       "      <td>1</td>\n",
       "    </tr>\n",
       "    <tr>\n",
       "      <th>186428</th>\n",
       "      <td>186428</td>\n",
       "      <td>284352</td>\n",
       "      <td>94059</td>\n",
       "      <td>Why does Nidhi Razdan (NDTV anchor) do such po...</td>\n",
       "      <td>Why are you defaming people ?</td>\n",
       "      <td>0</td>\n",
       "    </tr>\n",
       "    <tr>\n",
       "      <th>260642</th>\n",
       "      <td>260642</td>\n",
       "      <td>376628</td>\n",
       "      <td>36612</td>\n",
       "      <td>What does Richard Muller think about dark matt...</td>\n",
       "      <td>How old was Richard Muller when he first learn...</td>\n",
       "      <td>0</td>\n",
       "    </tr>\n",
       "    <tr>\n",
       "      <th>382006</th>\n",
       "      <td>382006</td>\n",
       "      <td>513803</td>\n",
       "      <td>513804</td>\n",
       "      <td>Are there any good game programming colleges i...</td>\n",
       "      <td>Which are the best colleges in India for game ...</td>\n",
       "      <td>1</td>\n",
       "    </tr>\n",
       "    <tr>\n",
       "      <th>222017</th>\n",
       "      <td>222017</td>\n",
       "      <td>329481</td>\n",
       "      <td>87028</td>\n",
       "      <td>Where do countries borrow money from?</td>\n",
       "      <td>Where are countries borrowing money from?</td>\n",
       "      <td>1</td>\n",
       "    </tr>\n",
       "    <tr>\n",
       "      <th>197352</th>\n",
       "      <td>197352</td>\n",
       "      <td>298289</td>\n",
       "      <td>298290</td>\n",
       "      <td>Is 4 GHz processor is two times faster than 2 ...</td>\n",
       "      <td>If a PC A has 2.0GHz clock speed and PC B has ...</td>\n",
       "      <td>0</td>\n",
       "    </tr>\n",
       "    <tr>\n",
       "      <th>148684</th>\n",
       "      <td>148684</td>\n",
       "      <td>234372</td>\n",
       "      <td>234373</td>\n",
       "      <td>What is the best way to learn data structures?</td>\n",
       "      <td>How do I start learning data structures?</td>\n",
       "      <td>1</td>\n",
       "    </tr>\n",
       "  </tbody>\n",
       "</table>\n",
       "</div>"
      ],
      "text/plain": [
       "            id    qid1    qid2  \\\n",
       "398574  398574  531806  531807   \n",
       "114720  114720   12623   63816   \n",
       "139772  139772  222259  222260   \n",
       "253975  253975   16416  132600   \n",
       "186428  186428  284352   94059   \n",
       "260642  260642  376628   36612   \n",
       "382006  382006  513803  513804   \n",
       "222017  222017  329481   87028   \n",
       "197352  197352  298289  298290   \n",
       "148684  148684  234372  234373   \n",
       "\n",
       "                                                question1  \\\n",
       "398574  I am hindu I am in relationship from last 8 ye...   \n",
       "114720                   How do I use Reddit efficiently?   \n",
       "139772                Do any galaxies appear blueshifted?   \n",
       "253975  What are the best books for preparing for IBPS...   \n",
       "186428  Why does Nidhi Razdan (NDTV anchor) do such po...   \n",
       "260642  What does Richard Muller think about dark matt...   \n",
       "382006  Are there any good game programming colleges i...   \n",
       "222017              Where do countries borrow money from?   \n",
       "197352  Is 4 GHz processor is two times faster than 2 ...   \n",
       "148684     What is the best way to learn data structures?   \n",
       "\n",
       "                                                question2  is_duplicate  \n",
       "398574  I am a 24-year-old Hindu girl. I want to marry...             0  \n",
       "114720                What is Reddit and how do I use it?             1  \n",
       "139772  Psychopaths: what words would you use to descr...             0  \n",
       "253975  What are the best books for IBPS PO, SBI SO, S...             1  \n",
       "186428                      Why are you defaming people ?             0  \n",
       "260642  How old was Richard Muller when he first learn...             0  \n",
       "382006  Which are the best colleges in India for game ...             1  \n",
       "222017          Where are countries borrowing money from?             1  \n",
       "197352  If a PC A has 2.0GHz clock speed and PC B has ...             0  \n",
       "148684           How do I start learning data structures?             1  "
      ]
     },
     "execution_count": 4,
     "metadata": {},
     "output_type": "execute_result"
    }
   ],
   "source": [
    "df.sample(10)"
   ]
  },
  {
   "cell_type": "code",
   "execution_count": 5,
   "metadata": {},
   "outputs": [
    {
     "name": "stdout",
     "output_type": "stream",
     "text": [
      "<class 'pandas.core.frame.DataFrame'>\n",
      "RangeIndex: 404290 entries, 0 to 404289\n",
      "Data columns (total 6 columns):\n",
      " #   Column        Non-Null Count   Dtype \n",
      "---  ------        --------------   ----- \n",
      " 0   id            404290 non-null  int64 \n",
      " 1   qid1          404290 non-null  int64 \n",
      " 2   qid2          404290 non-null  int64 \n",
      " 3   question1     404289 non-null  object\n",
      " 4   question2     404288 non-null  object\n",
      " 5   is_duplicate  404290 non-null  int64 \n",
      "dtypes: int64(4), object(2)\n",
      "memory usage: 18.5+ MB\n"
     ]
    }
   ],
   "source": [
    "df.info()"
   ]
  },
  {
   "cell_type": "code",
   "execution_count": 6,
   "metadata": {},
   "outputs": [
    {
     "data": {
      "text/plain": [
       "id              0\n",
       "qid1            0\n",
       "qid2            0\n",
       "question1       1\n",
       "question2       2\n",
       "is_duplicate    0\n",
       "dtype: int64"
      ]
     },
     "execution_count": 6,
     "metadata": {},
     "output_type": "execute_result"
    }
   ],
   "source": [
    "df.isnull().sum()"
   ]
  },
  {
   "cell_type": "code",
   "execution_count": 8,
   "metadata": {},
   "outputs": [
    {
     "data": {
      "text/plain": [
       "0"
      ]
     },
     "execution_count": 8,
     "metadata": {},
     "output_type": "execute_result"
    }
   ],
   "source": [
    "# duplicate rows\n",
    "df.duplicated().sum()"
   ]
  },
  {
   "cell_type": "code",
   "execution_count": 9,
   "metadata": {},
   "outputs": [
    {
     "data": {
      "text/plain": [
       "0    255027\n",
       "1    149263\n",
       "Name: is_duplicate, dtype: int64"
      ]
     },
     "execution_count": 9,
     "metadata": {},
     "output_type": "execute_result"
    }
   ],
   "source": [
    "# Distribution of duplicate and non-duplicate questions\n",
    "df['is_duplicate'].value_counts()"
   ]
  },
  {
   "cell_type": "code",
   "execution_count": 14,
   "metadata": {},
   "outputs": [
    {
     "data": {
      "text/plain": [
       "<AxesSubplot:>"
      ]
     },
     "execution_count": 14,
     "metadata": {},
     "output_type": "execute_result"
    },
    {
     "data": {
      "image/png": "[encoded data removed]",
      "text/plain": [
       "<Figure size 432x288 with 1 Axes>"
      ]
     },
     "metadata": {
      "needs_background": "light"
     },
     "output_type": "display_data"
    }
   ],
   "source": [
    "df['is_duplicate'].value_counts()/df['is_duplicate'].count()*100\n",
    "df['is_duplicate'].value_counts().plot(kind='bar')"
   ]
  },
  {
   "cell_type": "code",
   "execution_count": 12,
   "metadata": {},
   "outputs": [
    {
     "name": "stdout",
     "output_type": "stream",
     "text": [
      "Number of unique questions:  537933\n",
      "Number of questions getting repeated :  111780\n"
     ]
    }
   ],
   "source": [
    "# Repeated questions\n",
    "qid = pd.Series(df['qid1'].tolist() + df['qid2'].tolist())\n",
    "print('Number of unique questions: ', np.unique(qid).shape[0])\n",
    "x = qid.value_counts() > 1 \n",
    "print(\"Number of questions getting repeated : \", x[x].shape[0])"
   ]
  },
  {
   "cell_type": "code",
   "execution_count": 13,
   "metadata": {},
   "outputs": [
    {
     "data": {
      "image/png": "[encoded data removed]",
      "text/plain": [
       "<Figure size 432x288 with 1 Axes>"
      ]
     },
     "metadata": {
      "needs_background": "light"
     },
     "output_type": "display_data"
    }
   ],
   "source": [
    "# Repeated questions histogram \n",
    "plt.hist(qid.value_counts().values, bins=160)\n",
    "plt.yscale('log')\n",
    "plt.show()"
   ]
  },
  {
   "cell_type": "code",
   "execution_count": 15,
   "metadata": {},
   "outputs": [
    {
     "data": {
      "text/plain": [
       "0    255027\n",
       "1    149263\n",
       "Name: is_duplicate, dtype: int64"
      ]
     },
     "execution_count": 15,
     "metadata": {},
     "output_type": "execute_result"
    }
   ],
   "source": [
    "df['is_duplicate'].value_counts()"
   ]
  },
  {
   "cell_type": "code",
   "execution_count": 16,
   "metadata": {},
   "outputs": [
    {
     "data": {
      "text/plain": [
       "8461      50\n",
       "14110     48\n",
       "1749      47\n",
       "20628     47\n",
       "25984     47\n",
       "          ..\n",
       "223037     1\n",
       "223039     1\n",
       "223041     1\n",
       "223043     1\n",
       "537932     1\n",
       "Name: qid1, Length: 290654, dtype: int64"
      ]
     },
     "execution_count": 16,
     "metadata": {},
     "output_type": "execute_result"
    }
   ],
   "source": [
    "df['qid1'].value_counts()"
   ]
  },
  {
   "cell_type": "code",
   "execution_count": 17,
   "metadata": {},
   "outputs": [
    {
     "data": {
      "text/plain": [
       "30782     120\n",
       "2559      115\n",
       "4044      100\n",
       "2561       71\n",
       "17978      66\n",
       "         ... \n",
       "221429      1\n",
       "221433      1\n",
       "133300      1\n",
       "221437      1\n",
       "537933      1\n",
       "Name: qid2, Length: 299364, dtype: int64"
      ]
     },
     "execution_count": 17,
     "metadata": {},
     "output_type": "execute_result"
    }
   ],
   "source": [
    "df['qid2'].value_counts()"
   ]
  },
  {
   "attachments": {},
   "cell_type": "markdown",
   "metadata": {},
   "source": [
    "### Only Bag of Words"
   ]
  },
  {
   "cell_type": "code",
   "execution_count": 3,
   "metadata": {},
   "outputs": [],
   "source": [
    "new_df = df.sample(30000).dropna()"
   ]
  },
  {
   "cell_type": "code",
   "execution_count": 4,
   "metadata": {},
   "outputs": [
    {
     "data": {
      "text/html": [
       "<div>\n",
       "<style scoped>\n",
       "    .dataframe tbody tr th:only-of-type {\n",
       "        vertical-align: middle;\n",
       "    }\n",
       "\n",
       "    .dataframe tbody tr th {\n",
       "        vertical-align: top;\n",
       "    }\n",
       "\n",
       "    .dataframe thead th {\n",
       "        text-align: right;\n",
       "    }\n",
       "</style>\n",
       "<table border=\"1\" class=\"dataframe\">\n",
       "  <thead>\n",
       "    <tr style=\"text-align: right;\">\n",
       "      <th></th>\n",
       "      <th>question1</th>\n",
       "      <th>question2</th>\n",
       "    </tr>\n",
       "  </thead>\n",
       "  <tbody>\n",
       "    <tr>\n",
       "      <th>65226</th>\n",
       "      <td>Why is the line \"but I was going to Tosche Sta...</td>\n",
       "      <td>How did Rey become proficient in the Force so ...</td>\n",
       "    </tr>\n",
       "    <tr>\n",
       "      <th>115718</th>\n",
       "      <td>How do Bernie Sanders and Donald Trump differ ...</td>\n",
       "      <td>What are the differences between the global tr...</td>\n",
       "    </tr>\n",
       "    <tr>\n",
       "      <th>355380</th>\n",
       "      <td>What is JNU website?</td>\n",
       "      <td>What is JNU?</td>\n",
       "    </tr>\n",
       "    <tr>\n",
       "      <th>104521</th>\n",
       "      <td>Is GDP a good measure of a nation's wealth/sta...</td>\n",
       "      <td>How do you know when the debt/GDP ratio will s...</td>\n",
       "    </tr>\n",
       "    <tr>\n",
       "      <th>55785</th>\n",
       "      <td>What are the top 30 most profitable (high gros...</td>\n",
       "      <td>What are the top 10 most profitable (high gros...</td>\n",
       "    </tr>\n",
       "  </tbody>\n",
       "</table>\n",
       "</div>"
      ],
      "text/plain": [
       "                                                question1  \\\n",
       "65226   Why is the line \"but I was going to Tosche Sta...   \n",
       "115718  How do Bernie Sanders and Donald Trump differ ...   \n",
       "355380                               What is JNU website?   \n",
       "104521  Is GDP a good measure of a nation's wealth/sta...   \n",
       "55785   What are the top 30 most profitable (high gros...   \n",
       "\n",
       "                                                question2  \n",
       "65226   How did Rey become proficient in the Force so ...  \n",
       "115718  What are the differences between the global tr...  \n",
       "355380                                       What is JNU?  \n",
       "104521  How do you know when the debt/GDP ratio will s...  \n",
       "55785   What are the top 10 most profitable (high gros...  "
      ]
     },
     "execution_count": 4,
     "metadata": {},
     "output_type": "execute_result"
    }
   ],
   "source": [
    "ques_df = new_df[['question1', 'question2']]\n",
    "ques_df.head()"
   ]
  },
  {
   "cell_type": "code",
   "execution_count": 5,
   "metadata": {},
   "outputs": [],
   "source": [
    "from sklearn.feature_extraction.text import CountVectorizer \n",
    "# merge texts \n",
    "questions  = list(ques_df['question1']) + list(ques_df['question2'])\n",
    "\n",
    "cv = CountVectorizer(max_features=3000)\n",
    "q1_arr, q2_arr = np.vsplit(cv.fit_transform(questions).toarray(), 2)"
   ]
  },
  {
   "cell_type": "code",
   "execution_count": 6,
   "metadata": {},
   "outputs": [
    {
     "data": {
      "text/plain": [
       "(30000, 6000)"
      ]
     },
     "execution_count": 6,
     "metadata": {},
     "output_type": "execute_result"
    }
   ],
   "source": [
    "temp_df1 = pd.DataFrame(q1_arr, index=ques_df.index) \n",
    "temp_df2 = pd.DataFrame(q2_arr, index=ques_df.index)\n",
    "temp_df = pd.concat([temp_df1, temp_df2], axis=1) \n",
    "temp_df.shape"
   ]
  },
  {
   "cell_type": "code",
   "execution_count": 7,
   "metadata": {},
   "outputs": [
    {
     "data": {
      "text/html": [
       "<div>\n",
       "<style scoped>\n",
       "    .dataframe tbody tr th:only-of-type {\n",
       "        vertical-align: middle;\n",
       "    }\n",
       "\n",
       "    .dataframe tbody tr th {\n",
       "        vertical-align: top;\n",
       "    }\n",
       "\n",
       "    .dataframe thead th {\n",
       "        text-align: right;\n",
       "    }\n",
       "</style>\n",
       "<table border=\"1\" class=\"dataframe\">\n",
       "  <thead>\n",
       "    <tr style=\"text-align: right;\">\n",
       "      <th></th>\n",
       "      <th>0</th>\n",
       "      <th>1</th>\n",
       "      <th>2</th>\n",
       "      <th>3</th>\n",
       "      <th>4</th>\n",
       "      <th>5</th>\n",
       "      <th>6</th>\n",
       "      <th>7</th>\n",
       "      <th>8</th>\n",
       "      <th>9</th>\n",
       "      <th>...</th>\n",
       "      <th>2990</th>\n",
       "      <th>2991</th>\n",
       "      <th>2992</th>\n",
       "      <th>2993</th>\n",
       "      <th>2994</th>\n",
       "      <th>2995</th>\n",
       "      <th>2996</th>\n",
       "      <th>2997</th>\n",
       "      <th>2998</th>\n",
       "      <th>2999</th>\n",
       "    </tr>\n",
       "  </thead>\n",
       "  <tbody>\n",
       "    <tr>\n",
       "      <th>65226</th>\n",
       "      <td>0</td>\n",
       "      <td>0</td>\n",
       "      <td>0</td>\n",
       "      <td>0</td>\n",
       "      <td>0</td>\n",
       "      <td>0</td>\n",
       "      <td>0</td>\n",
       "      <td>0</td>\n",
       "      <td>0</td>\n",
       "      <td>0</td>\n",
       "      <td>...</td>\n",
       "      <td>0</td>\n",
       "      <td>0</td>\n",
       "      <td>0</td>\n",
       "      <td>0</td>\n",
       "      <td>0</td>\n",
       "      <td>0</td>\n",
       "      <td>0</td>\n",
       "      <td>0</td>\n",
       "      <td>0</td>\n",
       "      <td>0</td>\n",
       "    </tr>\n",
       "    <tr>\n",
       "      <th>115718</th>\n",
       "      <td>0</td>\n",
       "      <td>0</td>\n",
       "      <td>0</td>\n",
       "      <td>0</td>\n",
       "      <td>0</td>\n",
       "      <td>0</td>\n",
       "      <td>0</td>\n",
       "      <td>0</td>\n",
       "      <td>0</td>\n",
       "      <td>0</td>\n",
       "      <td>...</td>\n",
       "      <td>0</td>\n",
       "      <td>0</td>\n",
       "      <td>0</td>\n",
       "      <td>0</td>\n",
       "      <td>0</td>\n",
       "      <td>0</td>\n",
       "      <td>0</td>\n",
       "      <td>0</td>\n",
       "      <td>0</td>\n",
       "      <td>0</td>\n",
       "    </tr>\n",
       "    <tr>\n",
       "      <th>355380</th>\n",
       "      <td>0</td>\n",
       "      <td>0</td>\n",
       "      <td>0</td>\n",
       "      <td>0</td>\n",
       "      <td>0</td>\n",
       "      <td>0</td>\n",
       "      <td>0</td>\n",
       "      <td>0</td>\n",
       "      <td>0</td>\n",
       "      <td>0</td>\n",
       "      <td>...</td>\n",
       "      <td>0</td>\n",
       "      <td>0</td>\n",
       "      <td>0</td>\n",
       "      <td>0</td>\n",
       "      <td>0</td>\n",
       "      <td>0</td>\n",
       "      <td>0</td>\n",
       "      <td>0</td>\n",
       "      <td>0</td>\n",
       "      <td>0</td>\n",
       "    </tr>\n",
       "    <tr>\n",
       "      <th>104521</th>\n",
       "      <td>0</td>\n",
       "      <td>0</td>\n",
       "      <td>0</td>\n",
       "      <td>0</td>\n",
       "      <td>0</td>\n",
       "      <td>0</td>\n",
       "      <td>0</td>\n",
       "      <td>0</td>\n",
       "      <td>0</td>\n",
       "      <td>0</td>\n",
       "      <td>...</td>\n",
       "      <td>0</td>\n",
       "      <td>0</td>\n",
       "      <td>1</td>\n",
       "      <td>0</td>\n",
       "      <td>0</td>\n",
       "      <td>0</td>\n",
       "      <td>0</td>\n",
       "      <td>0</td>\n",
       "      <td>0</td>\n",
       "      <td>0</td>\n",
       "    </tr>\n",
       "    <tr>\n",
       "      <th>55785</th>\n",
       "      <td>0</td>\n",
       "      <td>0</td>\n",
       "      <td>0</td>\n",
       "      <td>0</td>\n",
       "      <td>0</td>\n",
       "      <td>0</td>\n",
       "      <td>0</td>\n",
       "      <td>0</td>\n",
       "      <td>0</td>\n",
       "      <td>0</td>\n",
       "      <td>...</td>\n",
       "      <td>0</td>\n",
       "      <td>0</td>\n",
       "      <td>0</td>\n",
       "      <td>0</td>\n",
       "      <td>0</td>\n",
       "      <td>0</td>\n",
       "      <td>0</td>\n",
       "      <td>0</td>\n",
       "      <td>0</td>\n",
       "      <td>0</td>\n",
       "    </tr>\n",
       "  </tbody>\n",
       "</table>\n",
       "<p>5 rows × 6000 columns</p>\n",
       "</div>"
      ],
      "text/plain": [
       "        0     1     2     3     4     5     6     7     8     9     ...  2990  \\\n",
       "65226      0     0     0     0     0     0     0     0     0     0  ...     0   \n",
       "115718     0     0     0     0     0     0     0     0     0     0  ...     0   \n",
       "355380     0     0     0     0     0     0     0     0     0     0  ...     0   \n",
       "104521     0     0     0     0     0     0     0     0     0     0  ...     0   \n",
       "55785      0     0     0     0     0     0     0     0     0     0  ...     0   \n",
       "\n",
       "        2991  2992  2993  2994  2995  2996  2997  2998  2999  \n",
       "65226      0     0     0     0     0     0     0     0     0  \n",
       "115718     0     0     0     0     0     0     0     0     0  \n",
       "355380     0     0     0     0     0     0     0     0     0  \n",
       "104521     0     1     0     0     0     0     0     0     0  \n",
       "55785      0     0     0     0     0     0     0     0     0  \n",
       "\n",
       "[5 rows x 6000 columns]"
      ]
     },
     "execution_count": 7,
     "metadata": {},
     "output_type": "execute_result"
    }
   ],
   "source": [
    "temp_df.head()"
   ]
  },
  {
   "cell_type": "code",
   "execution_count": 8,
   "metadata": {},
   "outputs": [],
   "source": [
    "temp_df['is_duplicate'] = new_df['is_duplicate']"
   ]
  },
  {
   "cell_type": "code",
   "execution_count": 9,
   "metadata": {},
   "outputs": [
    {
     "data": {
      "text/html": [
       "<div>\n",
       "<style scoped>\n",
       "    .dataframe tbody tr th:only-of-type {\n",
       "        vertical-align: middle;\n",
       "    }\n",
       "\n",
       "    .dataframe tbody tr th {\n",
       "        vertical-align: top;\n",
       "    }\n",
       "\n",
       "    .dataframe thead th {\n",
       "        text-align: right;\n",
       "    }\n",
       "</style>\n",
       "<table border=\"1\" class=\"dataframe\">\n",
       "  <thead>\n",
       "    <tr style=\"text-align: right;\">\n",
       "      <th></th>\n",
       "      <th>0</th>\n",
       "      <th>1</th>\n",
       "      <th>2</th>\n",
       "      <th>3</th>\n",
       "      <th>4</th>\n",
       "      <th>5</th>\n",
       "      <th>6</th>\n",
       "      <th>7</th>\n",
       "      <th>8</th>\n",
       "      <th>9</th>\n",
       "      <th>...</th>\n",
       "      <th>2991</th>\n",
       "      <th>2992</th>\n",
       "      <th>2993</th>\n",
       "      <th>2994</th>\n",
       "      <th>2995</th>\n",
       "      <th>2996</th>\n",
       "      <th>2997</th>\n",
       "      <th>2998</th>\n",
       "      <th>2999</th>\n",
       "      <th>is_duplicate</th>\n",
       "    </tr>\n",
       "  </thead>\n",
       "  <tbody>\n",
       "    <tr>\n",
       "      <th>65226</th>\n",
       "      <td>0</td>\n",
       "      <td>0</td>\n",
       "      <td>0</td>\n",
       "      <td>0</td>\n",
       "      <td>0</td>\n",
       "      <td>0</td>\n",
       "      <td>0</td>\n",
       "      <td>0</td>\n",
       "      <td>0</td>\n",
       "      <td>0</td>\n",
       "      <td>...</td>\n",
       "      <td>0</td>\n",
       "      <td>0</td>\n",
       "      <td>0</td>\n",
       "      <td>0</td>\n",
       "      <td>0</td>\n",
       "      <td>0</td>\n",
       "      <td>0</td>\n",
       "      <td>0</td>\n",
       "      <td>0</td>\n",
       "      <td>0</td>\n",
       "    </tr>\n",
       "    <tr>\n",
       "      <th>115718</th>\n",
       "      <td>0</td>\n",
       "      <td>0</td>\n",
       "      <td>0</td>\n",
       "      <td>0</td>\n",
       "      <td>0</td>\n",
       "      <td>0</td>\n",
       "      <td>0</td>\n",
       "      <td>0</td>\n",
       "      <td>0</td>\n",
       "      <td>0</td>\n",
       "      <td>...</td>\n",
       "      <td>0</td>\n",
       "      <td>0</td>\n",
       "      <td>0</td>\n",
       "      <td>0</td>\n",
       "      <td>0</td>\n",
       "      <td>0</td>\n",
       "      <td>0</td>\n",
       "      <td>0</td>\n",
       "      <td>0</td>\n",
       "      <td>1</td>\n",
       "    </tr>\n",
       "    <tr>\n",
       "      <th>355380</th>\n",
       "      <td>0</td>\n",
       "      <td>0</td>\n",
       "      <td>0</td>\n",
       "      <td>0</td>\n",
       "      <td>0</td>\n",
       "      <td>0</td>\n",
       "      <td>0</td>\n",
       "      <td>0</td>\n",
       "      <td>0</td>\n",
       "      <td>0</td>\n",
       "      <td>...</td>\n",
       "      <td>0</td>\n",
       "      <td>0</td>\n",
       "      <td>0</td>\n",
       "      <td>0</td>\n",
       "      <td>0</td>\n",
       "      <td>0</td>\n",
       "      <td>0</td>\n",
       "      <td>0</td>\n",
       "      <td>0</td>\n",
       "      <td>0</td>\n",
       "    </tr>\n",
       "    <tr>\n",
       "      <th>104521</th>\n",
       "      <td>0</td>\n",
       "      <td>0</td>\n",
       "      <td>0</td>\n",
       "      <td>0</td>\n",
       "      <td>0</td>\n",
       "      <td>0</td>\n",
       "      <td>0</td>\n",
       "      <td>0</td>\n",
       "      <td>0</td>\n",
       "      <td>0</td>\n",
       "      <td>...</td>\n",
       "      <td>0</td>\n",
       "      <td>1</td>\n",
       "      <td>0</td>\n",
       "      <td>0</td>\n",
       "      <td>0</td>\n",
       "      <td>0</td>\n",
       "      <td>0</td>\n",
       "      <td>0</td>\n",
       "      <td>0</td>\n",
       "      <td>0</td>\n",
       "    </tr>\n",
       "    <tr>\n",
       "      <th>55785</th>\n",
       "      <td>0</td>\n",
       "      <td>0</td>\n",
       "      <td>0</td>\n",
       "      <td>0</td>\n",
       "      <td>0</td>\n",
       "      <td>0</td>\n",
       "      <td>0</td>\n",
       "      <td>0</td>\n",
       "      <td>0</td>\n",
       "      <td>0</td>\n",
       "      <td>...</td>\n",
       "      <td>0</td>\n",
       "      <td>0</td>\n",
       "      <td>0</td>\n",
       "      <td>0</td>\n",
       "      <td>0</td>\n",
       "      <td>0</td>\n",
       "      <td>0</td>\n",
       "      <td>0</td>\n",
       "      <td>0</td>\n",
       "      <td>1</td>\n",
       "    </tr>\n",
       "  </tbody>\n",
       "</table>\n",
       "<p>5 rows × 6001 columns</p>\n",
       "</div>"
      ],
      "text/plain": [
       "        0  1  2  3  4  5  6  7  8  9  ...  2991  2992  2993  2994  2995  2996  \\\n",
       "65226   0  0  0  0  0  0  0  0  0  0  ...     0     0     0     0     0     0   \n",
       "115718  0  0  0  0  0  0  0  0  0  0  ...     0     0     0     0     0     0   \n",
       "355380  0  0  0  0  0  0  0  0  0  0  ...     0     0     0     0     0     0   \n",
       "104521  0  0  0  0  0  0  0  0  0  0  ...     0     1     0     0     0     0   \n",
       "55785   0  0  0  0  0  0  0  0  0  0  ...     0     0     0     0     0     0   \n",
       "\n",
       "        2997  2998  2999  is_duplicate  \n",
       "65226      0     0     0             0  \n",
       "115718     0     0     0             1  \n",
       "355380     0     0     0             0  \n",
       "104521     0     0     0             0  \n",
       "55785      0     0     0             1  \n",
       "\n",
       "[5 rows x 6001 columns]"
      ]
     },
     "execution_count": 9,
     "metadata": {},
     "output_type": "execute_result"
    }
   ],
   "source": [
    "temp_df.head()"
   ]
  },
  {
   "cell_type": "code",
   "execution_count": 10,
   "metadata": {},
   "outputs": [],
   "source": [
    "from sklearn.model_selection import train_test_split \n",
    "X_train, X_test, y_train, y_test = train_test_split(temp_df.iloc[:,0:-1].values, temp_df.iloc[:,-1].values, test_size=0.3, random_state=True)"
   ]
  },
  {
   "cell_type": "code",
   "execution_count": 11,
   "metadata": {},
   "outputs": [
    {
     "data": {
      "text/plain": [
       "0.7461111111111111"
      ]
     },
     "execution_count": 11,
     "metadata": {},
     "output_type": "execute_result"
    }
   ],
   "source": [
    "from sklearn.ensemble import RandomForestClassifier \n",
    "from sklearn.metrics import accuracy_score \n",
    "rf = RandomForestClassifier() \n",
    "rf.fit(X_train, y_train) \n",
    "y_pred = rf.predict(X_test) \n",
    "accuracy_score(y_test, y_pred)"
   ]
  },
  {
   "cell_type": "code",
   "execution_count": 14,
   "metadata": {},
   "outputs": [
    {
     "data": {
      "text/plain": [
       "0.735"
      ]
     },
     "execution_count": 14,
     "metadata": {},
     "output_type": "execute_result"
    }
   ],
   "source": [
    "from xgboost import XGBClassifier \n",
    "xgb = XGBClassifier()\n",
    "xgb.fit(X_train, y_train) \n",
    "y_pred = xgb.predict(X_test) \n",
    "accuracy_score(y_test, y_pred) "
   ]
  },
  {
   "attachments": {},
   "cell_type": "markdown",
   "metadata": {},
   "source": [
    "### Bag of Words with Basic Features"
   ]
  },
  {
   "cell_type": "code",
   "execution_count": 21,
   "metadata": {},
   "outputs": [],
   "source": [
    "new_df = df.sample(30000).dropna()"
   ]
  },
  {
   "cell_type": "code",
   "execution_count": 23,
   "metadata": {},
   "outputs": [
    {
     "data": {
      "text/plain": [
       "(30000, 6)"
      ]
     },
     "execution_count": 23,
     "metadata": {},
     "output_type": "execute_result"
    }
   ],
   "source": [
    "new_df.shape"
   ]
  },
  {
   "cell_type": "code",
   "execution_count": 24,
   "metadata": {},
   "outputs": [
    {
     "data": {
      "text/plain": [
       "0"
      ]
     },
     "execution_count": 24,
     "metadata": {},
     "output_type": "execute_result"
    }
   ],
   "source": [
    "new_df.duplicated().sum()"
   ]
  },
  {
   "cell_type": "code",
   "execution_count": 25,
   "metadata": {},
   "outputs": [
    {
     "name": "stdout",
     "output_type": "stream",
     "text": [
      "0    18868\n",
      "1    11132\n",
      "Name: is_duplicate, dtype: int64\n",
      "0    62.893333\n",
      "1    37.106667\n",
      "Name: is_duplicate, dtype: float64\n"
     ]
    },
    {
     "data": {
      "text/plain": [
       "<AxesSubplot:>"
      ]
     },
     "execution_count": 25,
     "metadata": {},
     "output_type": "execute_result"
    },
    {
     "data": {
      "image/png": "[encoded data removed]",
      "text/plain": [
       "<Figure size 432x288 with 1 Axes>"
      ]
     },
     "metadata": {
      "needs_background": "light"
     },
     "output_type": "display_data"
    }
   ],
   "source": [
    "print(new_df['is_duplicate'].value_counts())\n",
    "print((new_df['is_duplicate'].value_counts()/new_df['is_duplicate'].count())*100)\n",
    "new_df['is_duplicate'].value_counts().plot(kind='bar')"
   ]
  },
  {
   "cell_type": "code",
   "execution_count": 26,
   "metadata": {},
   "outputs": [
    {
     "name": "stdout",
     "output_type": "stream",
     "text": [
      "Number of unique questions 55263\n",
      "Number of questions getting repeated 3545\n"
     ]
    }
   ],
   "source": [
    "# Repeats \n",
    "qid = pd.Series(new_df['qid1'].tolist() + new_df['qid2'].tolist()) \n",
    "print(\"Number of unique questions\", np.unique(qid).shape[0]) \n",
    "x = qid.value_counts()> 1\n",
    "print(\"Number of questions getting repeated\", x[x].shape[0])"
   ]
  },
  {
   "cell_type": "code",
   "execution_count": 27,
   "metadata": {},
   "outputs": [
    {
     "data": {
      "image/png": "[encoded data removed]",
      "text/plain": [
       "<Figure size 432x288 with 1 Axes>"
      ]
     },
     "metadata": {
      "needs_background": "light"
     },
     "output_type": "display_data"
    }
   ],
   "source": [
    "# Repeated questions histogram \n",
    "plt.hist(qid.value_counts().values, bins=160) \n",
    "plt.yscale('log') \n",
    "plt.show()"
   ]
  },
  {
   "cell_type": "code",
   "execution_count": 29,
   "metadata": {},
   "outputs": [],
   "source": [
    "# Feature Engineering \n",
    "new_df['q1_len'] = new_df['question1'].str.len() \n",
    "new_df['q2_len'] = new_df['question2'].str.len()"
   ]
  },
  {
   "cell_type": "code",
   "execution_count": 30,
   "metadata": {},
   "outputs": [
    {
     "data": {
      "text/html": [
       "<div>\n",
       "<style scoped>\n",
       "    .dataframe tbody tr th:only-of-type {\n",
       "        vertical-align: middle;\n",
       "    }\n",
       "\n",
       "    .dataframe tbody tr th {\n",
       "        vertical-align: top;\n",
       "    }\n",
       "\n",
       "    .dataframe thead th {\n",
       "        text-align: right;\n",
       "    }\n",
       "</style>\n",
       "<table border=\"1\" class=\"dataframe\">\n",
       "  <thead>\n",
       "    <tr style=\"text-align: right;\">\n",
       "      <th></th>\n",
       "      <th>id</th>\n",
       "      <th>qid1</th>\n",
       "      <th>qid2</th>\n",
       "      <th>question1</th>\n",
       "      <th>question2</th>\n",
       "      <th>is_duplicate</th>\n",
       "      <th>q1_len</th>\n",
       "      <th>q2_len</th>\n",
       "    </tr>\n",
       "  </thead>\n",
       "  <tbody>\n",
       "    <tr>\n",
       "      <th>70795</th>\n",
       "      <td>70795</td>\n",
       "      <td>121937</td>\n",
       "      <td>121938</td>\n",
       "      <td>What is the last job that robots take over?</td>\n",
       "      <td>What jobs will there be in 2050 that haven't b...</td>\n",
       "      <td>0</td>\n",
       "      <td>43</td>\n",
       "      <td>71</td>\n",
       "    </tr>\n",
       "    <tr>\n",
       "      <th>72420</th>\n",
       "      <td>72420</td>\n",
       "      <td>124434</td>\n",
       "      <td>124435</td>\n",
       "      <td>Do people who personally know Donald Trump lik...</td>\n",
       "      <td>Is Donald Trump a good person?</td>\n",
       "      <td>0</td>\n",
       "      <td>52</td>\n",
       "      <td>30</td>\n",
       "    </tr>\n",
       "    <tr>\n",
       "      <th>136419</th>\n",
       "      <td>136419</td>\n",
       "      <td>217666</td>\n",
       "      <td>217667</td>\n",
       "      <td>What is the difference between \"Almighty God\" ...</td>\n",
       "      <td>What is difference between god and almighty?</td>\n",
       "      <td>1</td>\n",
       "      <td>65</td>\n",
       "      <td>44</td>\n",
       "    </tr>\n",
       "    <tr>\n",
       "      <th>355772</th>\n",
       "      <td>355772</td>\n",
       "      <td>5359</td>\n",
       "      <td>66410</td>\n",
       "      <td>What are the best things to do when working on...</td>\n",
       "      <td>What's the best, most effective tips for losin...</td>\n",
       "      <td>1</td>\n",
       "      <td>61</td>\n",
       "      <td>55</td>\n",
       "    </tr>\n",
       "    <tr>\n",
       "      <th>29168</th>\n",
       "      <td>29168</td>\n",
       "      <td>54002</td>\n",
       "      <td>54003</td>\n",
       "      <td>What is dark night?</td>\n",
       "      <td>If there are almost an infinite number of star...</td>\n",
       "      <td>0</td>\n",
       "      <td>19</td>\n",
       "      <td>76</td>\n",
       "    </tr>\n",
       "  </tbody>\n",
       "</table>\n",
       "</div>"
      ],
      "text/plain": [
       "            id    qid1    qid2  \\\n",
       "70795    70795  121937  121938   \n",
       "72420    72420  124434  124435   \n",
       "136419  136419  217666  217667   \n",
       "355772  355772    5359   66410   \n",
       "29168    29168   54002   54003   \n",
       "\n",
       "                                                question1  \\\n",
       "70795         What is the last job that robots take over?   \n",
       "72420   Do people who personally know Donald Trump lik...   \n",
       "136419  What is the difference between \"Almighty God\" ...   \n",
       "355772  What are the best things to do when working on...   \n",
       "29168                                 What is dark night?   \n",
       "\n",
       "                                                question2  is_duplicate  \\\n",
       "70795   What jobs will there be in 2050 that haven't b...             0   \n",
       "72420                      Is Donald Trump a good person?             0   \n",
       "136419       What is difference between god and almighty?             1   \n",
       "355772  What's the best, most effective tips for losin...             1   \n",
       "29168   If there are almost an infinite number of star...             0   \n",
       "\n",
       "        q1_len  q2_len  \n",
       "70795       43      71  \n",
       "72420       52      30  \n",
       "136419      65      44  \n",
       "355772      61      55  \n",
       "29168       19      76  "
      ]
     },
     "execution_count": 30,
     "metadata": {},
     "output_type": "execute_result"
    }
   ],
   "source": [
    "new_df.head()"
   ]
  },
  {
   "cell_type": "code",
   "execution_count": 31,
   "metadata": {},
   "outputs": [
    {
     "data": {
      "text/html": [
       "<div>\n",
       "<style scoped>\n",
       "    .dataframe tbody tr th:only-of-type {\n",
       "        vertical-align: middle;\n",
       "    }\n",
       "\n",
       "    .dataframe tbody tr th {\n",
       "        vertical-align: top;\n",
       "    }\n",
       "\n",
       "    .dataframe thead th {\n",
       "        text-align: right;\n",
       "    }\n",
       "</style>\n",
       "<table border=\"1\" class=\"dataframe\">\n",
       "  <thead>\n",
       "    <tr style=\"text-align: right;\">\n",
       "      <th></th>\n",
       "      <th>id</th>\n",
       "      <th>qid1</th>\n",
       "      <th>qid2</th>\n",
       "      <th>question1</th>\n",
       "      <th>question2</th>\n",
       "      <th>is_duplicate</th>\n",
       "      <th>q1_len</th>\n",
       "      <th>q2_len</th>\n",
       "      <th>q1_words</th>\n",
       "      <th>q2_words</th>\n",
       "    </tr>\n",
       "  </thead>\n",
       "  <tbody>\n",
       "    <tr>\n",
       "      <th>70795</th>\n",
       "      <td>70795</td>\n",
       "      <td>121937</td>\n",
       "      <td>121938</td>\n",
       "      <td>What is the last job that robots take over?</td>\n",
       "      <td>What jobs will there be in 2050 that haven't b...</td>\n",
       "      <td>0</td>\n",
       "      <td>43</td>\n",
       "      <td>71</td>\n",
       "      <td>9</td>\n",
       "      <td>14</td>\n",
       "    </tr>\n",
       "    <tr>\n",
       "      <th>72420</th>\n",
       "      <td>72420</td>\n",
       "      <td>124434</td>\n",
       "      <td>124435</td>\n",
       "      <td>Do people who personally know Donald Trump lik...</td>\n",
       "      <td>Is Donald Trump a good person?</td>\n",
       "      <td>0</td>\n",
       "      <td>52</td>\n",
       "      <td>30</td>\n",
       "      <td>9</td>\n",
       "      <td>6</td>\n",
       "    </tr>\n",
       "    <tr>\n",
       "      <th>136419</th>\n",
       "      <td>136419</td>\n",
       "      <td>217666</td>\n",
       "      <td>217667</td>\n",
       "      <td>What is the difference between \"Almighty God\" ...</td>\n",
       "      <td>What is difference between god and almighty?</td>\n",
       "      <td>1</td>\n",
       "      <td>65</td>\n",
       "      <td>44</td>\n",
       "      <td>10</td>\n",
       "      <td>7</td>\n",
       "    </tr>\n",
       "    <tr>\n",
       "      <th>355772</th>\n",
       "      <td>355772</td>\n",
       "      <td>5359</td>\n",
       "      <td>66410</td>\n",
       "      <td>What are the best things to do when working on...</td>\n",
       "      <td>What's the best, most effective tips for losin...</td>\n",
       "      <td>1</td>\n",
       "      <td>61</td>\n",
       "      <td>55</td>\n",
       "      <td>12</td>\n",
       "      <td>9</td>\n",
       "    </tr>\n",
       "    <tr>\n",
       "      <th>29168</th>\n",
       "      <td>29168</td>\n",
       "      <td>54002</td>\n",
       "      <td>54003</td>\n",
       "      <td>What is dark night?</td>\n",
       "      <td>If there are almost an infinite number of star...</td>\n",
       "      <td>0</td>\n",
       "      <td>19</td>\n",
       "      <td>76</td>\n",
       "      <td>4</td>\n",
       "      <td>15</td>\n",
       "    </tr>\n",
       "  </tbody>\n",
       "</table>\n",
       "</div>"
      ],
      "text/plain": [
       "            id    qid1    qid2  \\\n",
       "70795    70795  121937  121938   \n",
       "72420    72420  124434  124435   \n",
       "136419  136419  217666  217667   \n",
       "355772  355772    5359   66410   \n",
       "29168    29168   54002   54003   \n",
       "\n",
       "                                                question1  \\\n",
       "70795         What is the last job that robots take over?   \n",
       "72420   Do people who personally know Donald Trump lik...   \n",
       "136419  What is the difference between \"Almighty God\" ...   \n",
       "355772  What are the best things to do when working on...   \n",
       "29168                                 What is dark night?   \n",
       "\n",
       "                                                question2  is_duplicate  \\\n",
       "70795   What jobs will there be in 2050 that haven't b...             0   \n",
       "72420                      Is Donald Trump a good person?             0   \n",
       "136419       What is difference between god and almighty?             1   \n",
       "355772  What's the best, most effective tips for losin...             1   \n",
       "29168   If there are almost an infinite number of star...             0   \n",
       "\n",
       "        q1_len  q2_len  q1_words  q2_words  \n",
       "70795       43      71         9        14  \n",
       "72420       52      30         9         6  \n",
       "136419      65      44        10         7  \n",
       "355772      61      55        12         9  \n",
       "29168       19      76         4        15  "
      ]
     },
     "execution_count": 31,
     "metadata": {},
     "output_type": "execute_result"
    }
   ],
   "source": [
    "new_df['q1_words'] = new_df['question1'].apply(lambda row: len(row.split(\" \")))\n",
    "new_df['q2_words'] = new_df['question2'].apply(lambda row: len(row.split(\" \"))) \n",
    "new_df.head()"
   ]
  },
  {
   "cell_type": "code",
   "execution_count": 32,
   "metadata": {},
   "outputs": [],
   "source": [
    "def common_words(row):\n",
    "    w1 = set(map(lambda word: word.lower().strip(), row['question1'].split(\" \"))) \n",
    "    w2 = set(map(lambda word: word.lower().strip(), row['question2'].split(\" \")))\n",
    "    return len(w1 & w2)"
   ]
  },
  {
   "cell_type": "code",
   "execution_count": 33,
   "metadata": {},
   "outputs": [
    {
     "data": {
      "text/html": [
       "<div>\n",
       "<style scoped>\n",
       "    .dataframe tbody tr th:only-of-type {\n",
       "        vertical-align: middle;\n",
       "    }\n",
       "\n",
       "    .dataframe tbody tr th {\n",
       "        vertical-align: top;\n",
       "    }\n",
       "\n",
       "    .dataframe thead th {\n",
       "        text-align: right;\n",
       "    }\n",
       "</style>\n",
       "<table border=\"1\" class=\"dataframe\">\n",
       "  <thead>\n",
       "    <tr style=\"text-align: right;\">\n",
       "      <th></th>\n",
       "      <th>id</th>\n",
       "      <th>qid1</th>\n",
       "      <th>qid2</th>\n",
       "      <th>question1</th>\n",
       "      <th>question2</th>\n",
       "      <th>is_duplicate</th>\n",
       "      <th>q1_len</th>\n",
       "      <th>q2_len</th>\n",
       "      <th>q1_words</th>\n",
       "      <th>q2_words</th>\n",
       "      <th>common_words</th>\n",
       "    </tr>\n",
       "  </thead>\n",
       "  <tbody>\n",
       "    <tr>\n",
       "      <th>70795</th>\n",
       "      <td>70795</td>\n",
       "      <td>121937</td>\n",
       "      <td>121938</td>\n",
       "      <td>What is the last job that robots take over?</td>\n",
       "      <td>What jobs will there be in 2050 that haven't b...</td>\n",
       "      <td>0</td>\n",
       "      <td>43</td>\n",
       "      <td>71</td>\n",
       "      <td>9</td>\n",
       "      <td>14</td>\n",
       "      <td>2</td>\n",
       "    </tr>\n",
       "    <tr>\n",
       "      <th>72420</th>\n",
       "      <td>72420</td>\n",
       "      <td>124434</td>\n",
       "      <td>124435</td>\n",
       "      <td>Do people who personally know Donald Trump lik...</td>\n",
       "      <td>Is Donald Trump a good person?</td>\n",
       "      <td>0</td>\n",
       "      <td>52</td>\n",
       "      <td>30</td>\n",
       "      <td>9</td>\n",
       "      <td>6</td>\n",
       "      <td>2</td>\n",
       "    </tr>\n",
       "    <tr>\n",
       "      <th>136419</th>\n",
       "      <td>136419</td>\n",
       "      <td>217666</td>\n",
       "      <td>217667</td>\n",
       "      <td>What is the difference between \"Almighty God\" ...</td>\n",
       "      <td>What is difference between god and almighty?</td>\n",
       "      <td>1</td>\n",
       "      <td>65</td>\n",
       "      <td>44</td>\n",
       "      <td>10</td>\n",
       "      <td>7</td>\n",
       "      <td>5</td>\n",
       "    </tr>\n",
       "    <tr>\n",
       "      <th>355772</th>\n",
       "      <td>355772</td>\n",
       "      <td>5359</td>\n",
       "      <td>66410</td>\n",
       "      <td>What are the best things to do when working on...</td>\n",
       "      <td>What's the best, most effective tips for losin...</td>\n",
       "      <td>1</td>\n",
       "      <td>61</td>\n",
       "      <td>55</td>\n",
       "      <td>12</td>\n",
       "      <td>9</td>\n",
       "      <td>3</td>\n",
       "    </tr>\n",
       "    <tr>\n",
       "      <th>29168</th>\n",
       "      <td>29168</td>\n",
       "      <td>54002</td>\n",
       "      <td>54003</td>\n",
       "      <td>What is dark night?</td>\n",
       "      <td>If there are almost an infinite number of star...</td>\n",
       "      <td>0</td>\n",
       "      <td>19</td>\n",
       "      <td>76</td>\n",
       "      <td>4</td>\n",
       "      <td>15</td>\n",
       "      <td>1</td>\n",
       "    </tr>\n",
       "  </tbody>\n",
       "</table>\n",
       "</div>"
      ],
      "text/plain": [
       "            id    qid1    qid2  \\\n",
       "70795    70795  121937  121938   \n",
       "72420    72420  124434  124435   \n",
       "136419  136419  217666  217667   \n",
       "355772  355772    5359   66410   \n",
       "29168    29168   54002   54003   \n",
       "\n",
       "                                                question1  \\\n",
       "70795         What is the last job that robots take over?   \n",
       "72420   Do people who personally know Donald Trump lik...   \n",
       "136419  What is the difference between \"Almighty God\" ...   \n",
       "355772  What are the best things to do when working on...   \n",
       "29168                                 What is dark night?   \n",
       "\n",
       "                                                question2  is_duplicate  \\\n",
       "70795   What jobs will there be in 2050 that haven't b...             0   \n",
       "72420                      Is Donald Trump a good person?             0   \n",
       "136419       What is difference between god and almighty?             1   \n",
       "355772  What's the best, most effective tips for losin...             1   \n",
       "29168   If there are almost an infinite number of star...             0   \n",
       "\n",
       "        q1_len  q2_len  q1_words  q2_words  common_words  \n",
       "70795       43      71         9        14             2  \n",
       "72420       52      30         9         6             2  \n",
       "136419      65      44        10         7             5  \n",
       "355772      61      55        12         9             3  \n",
       "29168       19      76         4        15             1  "
      ]
     },
     "execution_count": 33,
     "metadata": {},
     "output_type": "execute_result"
    }
   ],
   "source": [
    "new_df['common_words'] = new_df.apply(common_words, axis=1) \n",
    "new_df.head()"
   ]
  },
  {
   "cell_type": "code",
   "execution_count": 34,
   "metadata": {},
   "outputs": [],
   "source": [
    "def total_words(row):\n",
    "    w1 = set(map(lambda word: word.lower().strip(), row['question1'].split(\" \"))) \n",
    "    w2 = set(map(lambda word: word.lower().strip(), row[\"question2\"].split(\" \"))) \n",
    "    return (len(w1) + len(w2))"
   ]
  },
  {
   "cell_type": "code",
   "execution_count": 35,
   "metadata": {},
   "outputs": [
    {
     "data": {
      "text/html": [
       "<div>\n",
       "<style scoped>\n",
       "    .dataframe tbody tr th:only-of-type {\n",
       "        vertical-align: middle;\n",
       "    }\n",
       "\n",
       "    .dataframe tbody tr th {\n",
       "        vertical-align: top;\n",
       "    }\n",
       "\n",
       "    .dataframe thead th {\n",
       "        text-align: right;\n",
       "    }\n",
       "</style>\n",
       "<table border=\"1\" class=\"dataframe\">\n",
       "  <thead>\n",
       "    <tr style=\"text-align: right;\">\n",
       "      <th></th>\n",
       "      <th>id</th>\n",
       "      <th>qid1</th>\n",
       "      <th>qid2</th>\n",
       "      <th>question1</th>\n",
       "      <th>question2</th>\n",
       "      <th>is_duplicate</th>\n",
       "      <th>q1_len</th>\n",
       "      <th>q2_len</th>\n",
       "      <th>q1_words</th>\n",
       "      <th>q2_words</th>\n",
       "      <th>common_words</th>\n",
       "      <th>total_words</th>\n",
       "    </tr>\n",
       "  </thead>\n",
       "  <tbody>\n",
       "    <tr>\n",
       "      <th>70795</th>\n",
       "      <td>70795</td>\n",
       "      <td>121937</td>\n",
       "      <td>121938</td>\n",
       "      <td>What is the last job that robots take over?</td>\n",
       "      <td>What jobs will there be in 2050 that haven't b...</td>\n",
       "      <td>0</td>\n",
       "      <td>43</td>\n",
       "      <td>71</td>\n",
       "      <td>9</td>\n",
       "      <td>14</td>\n",
       "      <td>2</td>\n",
       "      <td>23</td>\n",
       "    </tr>\n",
       "    <tr>\n",
       "      <th>72420</th>\n",
       "      <td>72420</td>\n",
       "      <td>124434</td>\n",
       "      <td>124435</td>\n",
       "      <td>Do people who personally know Donald Trump lik...</td>\n",
       "      <td>Is Donald Trump a good person?</td>\n",
       "      <td>0</td>\n",
       "      <td>52</td>\n",
       "      <td>30</td>\n",
       "      <td>9</td>\n",
       "      <td>6</td>\n",
       "      <td>2</td>\n",
       "      <td>15</td>\n",
       "    </tr>\n",
       "    <tr>\n",
       "      <th>136419</th>\n",
       "      <td>136419</td>\n",
       "      <td>217666</td>\n",
       "      <td>217667</td>\n",
       "      <td>What is the difference between \"Almighty God\" ...</td>\n",
       "      <td>What is difference between god and almighty?</td>\n",
       "      <td>1</td>\n",
       "      <td>65</td>\n",
       "      <td>44</td>\n",
       "      <td>10</td>\n",
       "      <td>7</td>\n",
       "      <td>5</td>\n",
       "      <td>17</td>\n",
       "    </tr>\n",
       "    <tr>\n",
       "      <th>355772</th>\n",
       "      <td>355772</td>\n",
       "      <td>5359</td>\n",
       "      <td>66410</td>\n",
       "      <td>What are the best things to do when working on...</td>\n",
       "      <td>What's the best, most effective tips for losin...</td>\n",
       "      <td>1</td>\n",
       "      <td>61</td>\n",
       "      <td>55</td>\n",
       "      <td>12</td>\n",
       "      <td>9</td>\n",
       "      <td>3</td>\n",
       "      <td>21</td>\n",
       "    </tr>\n",
       "    <tr>\n",
       "      <th>29168</th>\n",
       "      <td>29168</td>\n",
       "      <td>54002</td>\n",
       "      <td>54003</td>\n",
       "      <td>What is dark night?</td>\n",
       "      <td>If there are almost an infinite number of star...</td>\n",
       "      <td>0</td>\n",
       "      <td>19</td>\n",
       "      <td>76</td>\n",
       "      <td>4</td>\n",
       "      <td>15</td>\n",
       "      <td>1</td>\n",
       "      <td>19</td>\n",
       "    </tr>\n",
       "  </tbody>\n",
       "</table>\n",
       "</div>"
      ],
      "text/plain": [
       "            id    qid1    qid2  \\\n",
       "70795    70795  121937  121938   \n",
       "72420    72420  124434  124435   \n",
       "136419  136419  217666  217667   \n",
       "355772  355772    5359   66410   \n",
       "29168    29168   54002   54003   \n",
       "\n",
       "                                                question1  \\\n",
       "70795         What is the last job that robots take over?   \n",
       "72420   Do people who personally know Donald Trump lik...   \n",
       "136419  What is the difference between \"Almighty God\" ...   \n",
       "355772  What are the best things to do when working on...   \n",
       "29168                                 What is dark night?   \n",
       "\n",
       "                                                question2  is_duplicate  \\\n",
       "70795   What jobs will there be in 2050 that haven't b...             0   \n",
       "72420                      Is Donald Trump a good person?             0   \n",
       "136419       What is difference between god and almighty?             1   \n",
       "355772  What's the best, most effective tips for losin...             1   \n",
       "29168   If there are almost an infinite number of star...             0   \n",
       "\n",
       "        q1_len  q2_len  q1_words  q2_words  common_words  total_words  \n",
       "70795       43      71         9        14             2           23  \n",
       "72420       52      30         9         6             2           15  \n",
       "136419      65      44        10         7             5           17  \n",
       "355772      61      55        12         9             3           21  \n",
       "29168       19      76         4        15             1           19  "
      ]
     },
     "execution_count": 35,
     "metadata": {},
     "output_type": "execute_result"
    }
   ],
   "source": [
    "new_df[\"total_words\"] = new_df.apply(total_words, axis=1) \n",
    "new_df.head()"
   ]
  },
  {
   "cell_type": "code",
   "execution_count": 36,
   "metadata": {},
   "outputs": [
    {
     "data": {
      "text/html": [
       "<div>\n",
       "<style scoped>\n",
       "    .dataframe tbody tr th:only-of-type {\n",
       "        vertical-align: middle;\n",
       "    }\n",
       "\n",
       "    .dataframe tbody tr th {\n",
       "        vertical-align: top;\n",
       "    }\n",
       "\n",
       "    .dataframe thead th {\n",
       "        text-align: right;\n",
       "    }\n",
       "</style>\n",
       "<table border=\"1\" class=\"dataframe\">\n",
       "  <thead>\n",
       "    <tr style=\"text-align: right;\">\n",
       "      <th></th>\n",
       "      <th>id</th>\n",
       "      <th>qid1</th>\n",
       "      <th>qid2</th>\n",
       "      <th>question1</th>\n",
       "      <th>question2</th>\n",
       "      <th>is_duplicate</th>\n",
       "      <th>q1_len</th>\n",
       "      <th>q2_len</th>\n",
       "      <th>q1_words</th>\n",
       "      <th>q2_words</th>\n",
       "      <th>common_words</th>\n",
       "      <th>total_words</th>\n",
       "      <th>shared_words</th>\n",
       "    </tr>\n",
       "  </thead>\n",
       "  <tbody>\n",
       "    <tr>\n",
       "      <th>70795</th>\n",
       "      <td>70795</td>\n",
       "      <td>121937</td>\n",
       "      <td>121938</td>\n",
       "      <td>What is the last job that robots take over?</td>\n",
       "      <td>What jobs will there be in 2050 that haven't b...</td>\n",
       "      <td>0</td>\n",
       "      <td>43</td>\n",
       "      <td>71</td>\n",
       "      <td>9</td>\n",
       "      <td>14</td>\n",
       "      <td>2</td>\n",
       "      <td>23</td>\n",
       "      <td>0.09</td>\n",
       "    </tr>\n",
       "    <tr>\n",
       "      <th>72420</th>\n",
       "      <td>72420</td>\n",
       "      <td>124434</td>\n",
       "      <td>124435</td>\n",
       "      <td>Do people who personally know Donald Trump lik...</td>\n",
       "      <td>Is Donald Trump a good person?</td>\n",
       "      <td>0</td>\n",
       "      <td>52</td>\n",
       "      <td>30</td>\n",
       "      <td>9</td>\n",
       "      <td>6</td>\n",
       "      <td>2</td>\n",
       "      <td>15</td>\n",
       "      <td>0.13</td>\n",
       "    </tr>\n",
       "    <tr>\n",
       "      <th>136419</th>\n",
       "      <td>136419</td>\n",
       "      <td>217666</td>\n",
       "      <td>217667</td>\n",
       "      <td>What is the difference between \"Almighty God\" ...</td>\n",
       "      <td>What is difference between god and almighty?</td>\n",
       "      <td>1</td>\n",
       "      <td>65</td>\n",
       "      <td>44</td>\n",
       "      <td>10</td>\n",
       "      <td>7</td>\n",
       "      <td>5</td>\n",
       "      <td>17</td>\n",
       "      <td>0.29</td>\n",
       "    </tr>\n",
       "    <tr>\n",
       "      <th>355772</th>\n",
       "      <td>355772</td>\n",
       "      <td>5359</td>\n",
       "      <td>66410</td>\n",
       "      <td>What are the best things to do when working on...</td>\n",
       "      <td>What's the best, most effective tips for losin...</td>\n",
       "      <td>1</td>\n",
       "      <td>61</td>\n",
       "      <td>55</td>\n",
       "      <td>12</td>\n",
       "      <td>9</td>\n",
       "      <td>3</td>\n",
       "      <td>21</td>\n",
       "      <td>0.14</td>\n",
       "    </tr>\n",
       "    <tr>\n",
       "      <th>29168</th>\n",
       "      <td>29168</td>\n",
       "      <td>54002</td>\n",
       "      <td>54003</td>\n",
       "      <td>What is dark night?</td>\n",
       "      <td>If there are almost an infinite number of star...</td>\n",
       "      <td>0</td>\n",
       "      <td>19</td>\n",
       "      <td>76</td>\n",
       "      <td>4</td>\n",
       "      <td>15</td>\n",
       "      <td>1</td>\n",
       "      <td>19</td>\n",
       "      <td>0.05</td>\n",
       "    </tr>\n",
       "  </tbody>\n",
       "</table>\n",
       "</div>"
      ],
      "text/plain": [
       "            id    qid1    qid2  \\\n",
       "70795    70795  121937  121938   \n",
       "72420    72420  124434  124435   \n",
       "136419  136419  217666  217667   \n",
       "355772  355772    5359   66410   \n",
       "29168    29168   54002   54003   \n",
       "\n",
       "                                                question1  \\\n",
       "70795         What is the last job that robots take over?   \n",
       "72420   Do people who personally know Donald Trump lik...   \n",
       "136419  What is the difference between \"Almighty God\" ...   \n",
       "355772  What are the best things to do when working on...   \n",
       "29168                                 What is dark night?   \n",
       "\n",
       "                                                question2  is_duplicate  \\\n",
       "70795   What jobs will there be in 2050 that haven't b...             0   \n",
       "72420                      Is Donald Trump a good person?             0   \n",
       "136419       What is difference between god and almighty?             1   \n",
       "355772  What's the best, most effective tips for losin...             1   \n",
       "29168   If there are almost an infinite number of star...             0   \n",
       "\n",
       "        q1_len  q2_len  q1_words  q2_words  common_words  total_words  \\\n",
       "70795       43      71         9        14             2           23   \n",
       "72420       52      30         9         6             2           15   \n",
       "136419      65      44        10         7             5           17   \n",
       "355772      61      55        12         9             3           21   \n",
       "29168       19      76         4        15             1           19   \n",
       "\n",
       "        shared_words  \n",
       "70795           0.09  \n",
       "72420           0.13  \n",
       "136419          0.29  \n",
       "355772          0.14  \n",
       "29168           0.05  "
      ]
     },
     "execution_count": 36,
     "metadata": {},
     "output_type": "execute_result"
    }
   ],
   "source": [
    "new_df['shared_words'] = round(new_df['common_words']/new_df['total_words'], 2)\n",
    "new_df.head()"
   ]
  },
  {
   "cell_type": "code",
   "execution_count": null,
   "metadata": {},
   "outputs": [],
   "source": []
  }
 ],
 "metadata": {
  "kernelspec": {
   "display_name": "Python 3",
   "language": "python",
   "name": "python3"
  },
  "language_info": {
   "codemirror_mode": {
    "name": "ipython",
    "version": 3
   },
   "file_extension": ".py",
   "mimetype": "text/x-python",
   "name": "python",
   "nbconvert_exporter": "python",
   "pygments_lexer": "ipython3",
   "version": "3.10.7"
  },
  "orig_nbformat": 4,
  "vscode": {
   "interpreter": {
    "hash": "26de051ba29f2982a8de78e945f0abaf191376122a1563185a90213a26c5da77"
   }
  }
 },
 "nbformat": 4,
 "nbformat_minor": 2
}
